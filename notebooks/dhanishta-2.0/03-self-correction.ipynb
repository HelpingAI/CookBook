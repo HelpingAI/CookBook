{
 "cells": [
  {
   "cell_type": "markdown",
   "metadata": {},
   "source": [
    "# Dhanishta 2.0: Self-Correction in Action 🔄\n",
    "\n",
    "One of Dhanishta 2.0's most remarkable features is its ability to identify and correct its own mistakes during the reasoning process. This notebook demonstrates this self-correction capability through various examples.\n",
    "\n",
    "## 🎯 What You'll Discover\n",
    "- How AI detects its own errors\n",
    "- Real-time mistake correction\n",
    "- Verification and double-checking processes\n",
    "- Learning from initial mistakes\n",
    "- Building confidence through validation"
   ]
  },
  {
   "cell_type": "code",
   "execution_count": null,
   "metadata": {},
   "outputs": [
    {
     "name": "stdout",
     "output_type": "stream",
     "text": [
      "🔄 Ready to explore self-correction capabilities!\n"
     ]
    }
   ],
   "source": [
    "import os\n",
    "from HelpingAI import HAI\n",
    "import re\n",
    "\n",
    "# Initialize the client\n",
    "hai = HAI()\n",
    "\n",
    "def demonstrate_self_correction(prompt, temperature=0.3):\n",
    "    \"\"\"Helper function to show self-correction in action\"\"\"\n",
    "    print(f\"🤔 Problem: {prompt}\")\n",
    "    print(\"=\" * 70)\n",
    "    \n",
    "    response = hai.chat.completions.create(\n",
    "        model=\"Dhanishtha-2.0-preview\",\n",
    "        messages=[{\"role\": \"user\", \"content\": prompt}],\n",
    "        hide_think=False,\n",
    "        temperature=temperature,\n",
    "        max_tokens=2500\n",
    "    )\n",
    "    \n",
    "    content = response.choices[0].message.content\n",
    "    \n",
    "    # Highlight self-correction patterns\n",
    "    correction_patterns = [\n",
    "        r\"(wait[,.]?\\s+let me.*?check|actually[,.]?\\s+|hold on[,.]?\\s+|let me reconsider|that's not right|I made an error)\",\n",
    "        r\"(let me double.?check|let me verify|wait[,.]?\\s+that's wrong|actually[,.]?\\s+that's incorrect)\"\n",
    "    ]\n",
    "    \n",
    "    corrections_found = []\n",
    "    for pattern in correction_patterns:\n",
    "        matches = re.findall(pattern, content, re.IGNORECASE)\n",
    "        corrections_found.extend(matches)\n",
    "    \n",
    "    print(content)\n",
    "    \n",
    "    if corrections_found:\n",
    "        print(\"\\n🔍 SELF-CORRECTION DETECTED:\")\n",
    "        print(\"-\" * 40)\n",
    "        for correction in corrections_found:\n",
    "            print(f\"• {correction}\")\n",
    "    \n",
    "    print(\"\\n\" + \"=\" * 70 + \"\\n\")\n",
    "    return response\n",
    "\n",
    "print(\"🔄 Ready to explore self-correction capabilities!\")"
   ]
  },
  {
   "cell_type": "markdown",
   "metadata": {},
   "source": [
    "## 🧮 Mathematical Self-Correction\n",
    "\n",
    "Let's see how Dhanishta 2.0 catches and corrects mathematical errors."
   ]
  },
  {
   "cell_type": "code",
   "execution_count": 2,
   "metadata": {},
   "outputs": [
    {
     "name": "stdout",
     "output_type": "stream",
     "text": [
      "🤔 Problem: Calculate 17 × 23 step by step. Then verify your answer using a different method.\n",
      "======================================================================\n",
      "<think>\n",
      "I need to calculate 17 × 23 step by step, then verify using a different method. Let me start with the standard multiplication approach, then try a different verification method like the distributive property or breaking down the numbers differently.\n",
      "</think>\n",
      "\n",
      "Let me calculate 17 × 23 step by step.\n",
      "\n",
      "First, I'll use the standard multiplication method:\n",
      "```\n",
      "   17\n",
      "× 23\n",
      "----\n",
      "   51  (7 × 3)\n",
      "  140   (10 × 3, shifted one position)\n",
      "  100   (1 × 3, shifted two positions)\n",
      "  140   (10 × 2, shifted one position)\n",
      "  200   (1 × 2, shifted two positions)\n",
      "----\n",
      "  391\n",
      "```\n",
      "\n",
      "<think>\n",
      "Wait, I made an error in my calculation. Let me recalculate more carefully. I should multiply 17 by 3 first, then 17 by 20, and add the results.\n",
      "</think>\n",
      "\n",
      "Let me recalculate more carefully:\n",
      "\n",
      "17 × 23 can be broken down as:\n",
      "- 17 × 3 = 51\n",
      "- 17 × 20 = 340\n",
      "- Adding these: 51 + 340 = 391\n",
      "\n",
      "Now for verification, I'll use the distributive property:\n",
      "\n",
      "(10 + 7) × (20 + 3)\n",
      "= 10 × 20 + 10 × 3 + 7 × 20 + 7 × 3\n",
      "= 200 + 30 + 140 + 21\n",
      "= 200 + 30 = 230\n",
      "= 230 + 140 = 370\n",
      "= 370 + 21 = 391\n",
      "\n",
      "Both methods give the same result: 391.\n",
      "\n",
      "Therefore, 17 × 23 = 391.\n",
      "\n",
      "🔍 SELF-CORRECTION DETECTED:\n",
      "----------------------------------------\n",
      "• I made an error\n",
      "\n",
      "======================================================================\n",
      "\n"
     ]
    },
    {
     "data": {
      "text/plain": [
       "ChatCompletion(id='chatcmpl-33b823f3a32e41139dcdfebb8af0312b', created=1752231149520, model='HelpingAI/Dhanishtha-2.0-preview', choices=[Choice(index=0, message=ChatCompletionMessage(role='assistant', content=\"<think>\\nI need to calculate 17 × 23 step by step, then verify using a different method. Let me start with the standard multiplication approach, then try a different verification method like the distributive property or breaking down the numbers differently.\\n</think>\\n\\nLet me calculate 17 × 23 step by step.\\n\\nFirst, I'll use the standard multiplication method:\\n```\\n   17\\n× 23\\n----\\n   51  (7 × 3)\\n  140   (10 × 3, shifted one position)\\n  100   (1 × 3, shifted two positions)\\n  140   (10 × 2, shifted one position)\\n  200   (1 × 2, shifted two positions)\\n----\\n  391\\n```\\n\\n<think>\\nWait, I made an error in my calculation. Let me recalculate more carefully. I should multiply 17 by 3 first, then 17 by 20, and add the results.\\n</think>\\n\\nLet me recalculate more carefully:\\n\\n17 × 23 can be broken down as:\\n- 17 × 3 = 51\\n- 17 × 20 = 340\\n- Adding these: 51 + 340 = 391\\n\\nNow for verification, I'll use the distributive property:\\n\\n(10 + 7) × (20 + 3)\\n= 10 × 20 + 10 × 3 + 7 × 20 + 7 × 3\\n= 200 + 30 + 140 + 21\\n= 200 + 30 = 230\\n= 230 + 140 = 370\\n= 370 + 21 = 391\\n\\nBoth methods give the same result: 391.\\n\\nTherefore, 17 × 23 = 391.\", function_call=None, tool_calls=None), delta=None, finish_reason='stop', logprobs=None)], object='chat.completion', system_fingerprint=None, usage=CompletionUsage(completion_tokens=434, prompt_tokens=29, total_tokens=463, prompt_tokens_details=None))"
      ]
     },
     "execution_count": 2,
     "metadata": {},
     "output_type": "execute_result"
    }
   ],
   "source": [
    "# Calculation that might trigger self-correction\n",
    "demonstrate_self_correction(\n",
    "    \"Calculate 17 × 23 step by step. Then verify your answer using a different method.\"\n",
    ")"
   ]
  },
  {
   "cell_type": "code",
   "execution_count": 3,
   "metadata": {},
   "outputs": [
    {
     "name": "stdout",
     "output_type": "stream",
     "text": [
      "🤔 Problem: What is 18% of 250? Show your calculation and then double-check it.\n",
      "======================================================================\n",
      "<think>\n",
      "This is a straightforward percentage calculation. To find 18% of 250, I need to convert the percentage to a decimal and multiply by the number. So that's 0.18 × 250. Let me work through this step by step.\n",
      "\n",
      "0.18 × 250 = 45\n",
      "\n",
      "Now I should double-check this calculation to be sure. I can verify by dividing 45 by 250 and seeing if I get 0.18, which is 18%.\n",
      "</think>\n",
      "\n",
      "To find 18% of 250, I'll convert the percentage to a decimal and multiply.\n",
      "\n",
      "18% = 0.18 (moving the decimal point two places to the left)\n",
      "\n",
      "Now I'll multiply:\n",
      "0.18 × 250 = 45\n",
      "\n",
      "<think>\n",
      "Let me double-check this calculation. If 18% of 250 equals 45, then 45 ÷ 250 should equal 0.18.\n",
      "45 ÷ 250 = 0.18\n",
      "\n",
      "That confirms our answer is correct. 18% of 250 is indeed 45.\n",
      "</think>\n",
      "\n",
      "To double-check my answer, I can divide 45 by 250:\n",
      "45 ÷ 250 = 0.18\n",
      "\n",
      "Since 0.18 equals 18%, my calculation is verified.\n",
      "\n",
      "Therefore, 18% of 250 equals 45.\n",
      "\n",
      "🔍 SELF-CORRECTION DETECTED:\n",
      "----------------------------------------\n",
      "• Let me double-check\n",
      "\n",
      "======================================================================\n",
      "\n"
     ]
    },
    {
     "data": {
      "text/plain": [
       "ChatCompletion(id='chatcmpl-7e708c8064ea449e890ecec95bf825e1', created=1752231180476, model='HelpingAI/Dhanishtha-2.0-preview', choices=[Choice(index=0, message=ChatCompletionMessage(role='assistant', content=\"<think>\\nThis is a straightforward percentage calculation. To find 18% of 250, I need to convert the percentage to a decimal and multiply by the number. So that's 0.18 × 250. Let me work through this step by step.\\n\\n0.18 × 250 = 45\\n\\nNow I should double-check this calculation to be sure. I can verify by dividing 45 by 250 and seeing if I get 0.18, which is 18%.\\n</think>\\n\\nTo find 18% of 250, I'll convert the percentage to a decimal and multiply.\\n\\n18% = 0.18 (moving the decimal point two places to the left)\\n\\nNow I'll multiply:\\n0.18 × 250 = 45\\n\\n<think>\\nLet me double-check this calculation. If 18% of 250 equals 45, then 45 ÷ 250 should equal 0.18.\\n45 ÷ 250 = 0.18\\n\\nThat confirms our answer is correct. 18% of 250 is indeed 45.\\n</think>\\n\\nTo double-check my answer, I can divide 45 by 250:\\n45 ÷ 250 = 0.18\\n\\nSince 0.18 equals 18%, my calculation is verified.\\n\\nTherefore, 18% of 250 equals 45.\", function_call=None, tool_calls=None), delta=None, finish_reason='stop', logprobs=None)], object='chat.completion', system_fingerprint=None, usage=CompletionUsage(completion_tokens=326, prompt_tokens=29, total_tokens=355, prompt_tokens_details=None))"
      ]
     },
     "execution_count": 3,
     "metadata": {},
     "output_type": "execute_result"
    }
   ],
   "source": [
    "# Percentage calculation with verification\n",
    "demonstrate_self_correction(\n",
    "    \"What is 18% of 250? Show your calculation and then double-check it.\"\n",
    ")"
   ]
  },
  {
   "cell_type": "code",
   "execution_count": 4,
   "metadata": {},
   "outputs": [
    {
     "name": "stdout",
     "output_type": "stream",
     "text": [
      "🤔 Problem: Simplify: (3/4 + 2/3) ÷ (5/6 - 1/2). Show each step and verify the final answer.\n",
      "======================================================================\n",
      "<think>\n",
      "This is a mathematical problem requiring careful step-by-step calculation. I need to simplify the expression (3/4 + 2/3) ÷ (5/6 - 1/2). I'll need to work with fractions, find common denominators, and perform division of fractions. Let me work through this methodically.\n",
      "</think>\n",
      "\n",
      "To simplify the expression (3/4 + 2/3) ÷ (5/6 - 1/2), I'll work through this step by step.\n",
      "\n",
      "First, let me handle the numerator (3/4 + 2/3):\n",
      "- Finding the common denominator: 4 × 3 = 12\n",
      "- Converting fractions: 3/4 = 9/12 and 2/3 = 8/12\n",
      "- Adding: 9/12 + 8/12 = 17/12\n",
      "\n",
      "<think>\n",
      "Now for the denominator (5/6 - 1/2):\n",
      "- Finding the common denominator: 6 × 2 = 12\n",
      "- Converting fractions: 5/6 = 10/12 and 1/2 = 6/12\n",
      "- Subtracting: 10/12 - 6/12 = 4/12 = 1/3\n",
      "</think>\n",
      "\n",
      "Next, let me handle the denominator (5/6 - 1/2):\n",
      "- Finding the common denominator: 6 × 2 = 12\n",
      "- Converting fractions: 5/6 = 10/12 and 1/2 = 6/12\n",
      "- Subtracting: 10/12 - 6/12 = 4/12 = 1/3\n",
      "\n",
      "Now I have the expression: (17/12) ÷ (1/3)\n",
      "\n",
      "<think>\n",
      "For division of fractions, I need to multiply by the reciprocal:\n",
      "(17/12) ÷ (1/3) = (17/12) × (3/1) = (17×3)/(12×1) = 51/12\n",
      "I can simplify this further by dividing both numerator and denominator by their GCD, which is 3:\n",
      "51/12 = 17/4\n",
      "</think>\n",
      "\n",
      "For the division step:\n",
      "- Dividing by a fraction equals multiplying by its reciprocal\n",
      "- (17/12) ÷ (1/3) = (17/12) × (3/1) = 51/12\n",
      "- Simplifying: 51/12 = 17/4 (dividing both by 3)\n",
      "\n",
      "Verification:\n",
      "- I can verify by converting to decimals:\n",
      "  - 3/4 = 0.75, 2/3 ≈ 0.67, 5/6 ≈ 0.83, 1/2 = 0.5\n",
      "  - 0.75 + 0.67 = 1.42\n",
      "  - 0.83 - 0.5 = 0.33\n",
      "  - 1.42 ÷ 0.33 ≈ 4.25\n",
      "  - 17/4 = 4.25 ✓\n",
      "\n",
      "Therefore, (3/4 + 2/3) ÷ (5/6 - 1/2) = 17/4\n",
      "\n",
      "======================================================================\n",
      "\n"
     ]
    },
    {
     "data": {
      "text/plain": [
       "ChatCompletion(id='chatcmpl-a5db959c40b64bb5874206840d5f5053', created=1752231205230, model='HelpingAI/Dhanishtha-2.0-preview', choices=[Choice(index=0, message=ChatCompletionMessage(role='assistant', content=\"<think>\\nThis is a mathematical problem requiring careful step-by-step calculation. I need to simplify the expression (3/4 + 2/3) ÷ (5/6 - 1/2). I'll need to work with fractions, find common denominators, and perform division of fractions. Let me work through this methodically.\\n</think>\\n\\nTo simplify the expression (3/4 + 2/3) ÷ (5/6 - 1/2), I'll work through this step by step.\\n\\nFirst, let me handle the numerator (3/4 + 2/3):\\n- Finding the common denominator: 4 × 3 = 12\\n- Converting fractions: 3/4 = 9/12 and 2/3 = 8/12\\n- Adding: 9/12 + 8/12 = 17/12\\n\\n<think>\\nNow for the denominator (5/6 - 1/2):\\n- Finding the common denominator: 6 × 2 = 12\\n- Converting fractions: 5/6 = 10/12 and 1/2 = 6/12\\n- Subtracting: 10/12 - 6/12 = 4/12 = 1/3\\n</think>\\n\\nNext, let me handle the denominator (5/6 - 1/2):\\n- Finding the common denominator: 6 × 2 = 12\\n- Converting fractions: 5/6 = 10/12 and 1/2 = 6/12\\n- Subtracting: 10/12 - 6/12 = 4/12 = 1/3\\n\\nNow I have the expression: (17/12) ÷ (1/3)\\n\\n<think>\\nFor division of fractions, I need to multiply by the reciprocal:\\n(17/12) ÷ (1/3) = (17/12) × (3/1) = (17×3)/(12×1) = 51/12\\nI can simplify this further by dividing both numerator and denominator by their GCD, which is 3:\\n51/12 = 17/4\\n</think>\\n\\nFor the division step:\\n- Dividing by a fraction equals multiplying by its reciprocal\\n- (17/12) ÷ (1/3) = (17/12) × (3/1) = 51/12\\n- Simplifying: 51/12 = 17/4 (dividing both by 3)\\n\\nVerification:\\n- I can verify by converting to decimals:\\n  - 3/4 = 0.75, 2/3 ≈ 0.67, 5/6 ≈ 0.83, 1/2 = 0.5\\n  - 0.75 + 0.67 = 1.42\\n  - 0.83 - 0.5 = 0.33\\n  - 1.42 ÷ 0.33 ≈ 4.25\\n  - 17/4 = 4.25 ✓\\n\\nTherefore, (3/4 + 2/3) ÷ (5/6 - 1/2) = 17/4\", function_call=None, tool_calls=None), delta=None, finish_reason='stop', logprobs=None)], object='chat.completion', system_fingerprint=None, usage=CompletionUsage(completion_tokens=728, prompt_tokens=42, total_tokens=770, prompt_tokens_details=None))"
      ]
     },
     "execution_count": 4,
     "metadata": {},
     "output_type": "execute_result"
    }
   ],
   "source": [
    "# Complex fraction problem\n",
    "demonstrate_self_correction(\n",
    "    \"Simplify: (3/4 + 2/3) ÷ (5/6 - 1/2). Show each step and verify the final answer.\"\n",
    ")"
   ]
  },
  {
   "cell_type": "markdown",
   "metadata": {},
   "source": [
    "## 🧩 Logic and Reasoning Corrections\n",
    "\n",
    "Watch how the AI corrects logical errors and refines its reasoning."
   ]
  },
  {
   "cell_type": "code",
   "execution_count": null,
   "metadata": {},
   "outputs": [],
   "source": [
    "# Logic puzzle with potential for error\n",
    "demonstrate_self_correction(\n",
    "    \"In a group of 30 people, 18 like coffee, 15 like tea, and 8 like both. \"\n",
    "    \"How many people like neither coffee nor tea? \"\n",
    "    \"Solve this step by step and check your reasoning.\"\n",
    ")"
   ]
  },
  {
   "cell_type": "code",
   "execution_count": null,
   "metadata": {},
   "outputs": [],
   "source": [
    "# Probability problem\n",
    "demonstrate_self_correction(\n",
    "    \"You roll two dice. What's the probability of getting a sum of 7 or 11? \"\n",
    "    \"List all possible outcomes and verify your calculation.\"\n",
    ")"
   ]
  },
  {
   "cell_type": "markdown",
   "metadata": {},
   "source": [
    "## 🔬 Scientific Reasoning Corrections\n",
    "\n",
    "See how the AI corrects scientific misconceptions and refines explanations."
   ]
  },
  {
   "cell_type": "code",
   "execution_count": null,
   "metadata": {},
   "outputs": [],
   "source": [
    "# Physics problem with common misconceptions\n",
    "demonstrate_self_correction(\n",
    "    \"A 10 kg object is dropped from a height of 20 meters. \"\n",
    "    \"How long does it take to hit the ground? (Ignore air resistance) \"\n",
    "    \"Use g = 9.8 m/s² and show your work. Then verify using energy conservation.\"\n",
    ")"
   ]
  },
  {
   "cell_type": "code",
   "execution_count": null,
   "metadata": {},
   "outputs": [],
   "source": [
    "# Chemistry stoichiometry\n",
    "demonstrate_self_correction(\n",
    "    \"How many grams of CO₂ are produced when 25 grams of C₂H₆ burns completely in oxygen? \"\n",
    "    \"Write the balanced equation, show your calculation, and verify using molar ratios.\"\n",
    ")"
   ]
  },
  {
   "cell_type": "markdown",
   "metadata": {},
   "source": [
    "## 📊 Data Analysis Corrections\n",
    "\n",
    "Observe how the AI catches errors in data interpretation and statistical reasoning."
   ]
  },
  {
   "cell_type": "code",
   "execution_count": null,
   "metadata": {},
   "outputs": [],
   "source": [
    "# Statistical analysis with potential pitfalls\n",
    "demonstrate_self_correction(\n",
    "    \"A survey of 100 people shows: 60 prefer brand A, 45 prefer brand B, 25 prefer both. \"\n",
    "    \"What percentage prefer only brand A? Only brand B? Neither? \"\n",
    "    \"Create a Venn diagram analysis and verify your percentages add up correctly.\"\n",
    ")"
   ]
  },
  {
   "cell_type": "code",
   "execution_count": null,
   "metadata": {},
   "outputs": [],
   "source": [
    "# Average calculation with verification\n",
    "demonstrate_self_correction(\n",
    "    \"Test scores: 85, 92, 78, 96, 88, 91, 83, 89, 94, 87. \"\n",
    "    \"Calculate the mean, median, and mode. Double-check each calculation.\"\n",
    ")"
   ]
  },
  {
   "cell_type": "markdown",
   "metadata": {},
   "source": [
    "## 🎯 Word Problems and Reading Comprehension\n",
    "\n",
    "See how the AI corrects misinterpretations and refines understanding."
   ]
  },
  {
   "cell_type": "code",
   "execution_count": null,
   "metadata": {},
   "outputs": [],
   "source": [
    "# Complex word problem\n",
    "demonstrate_self_correction(\n",
    "    \"Sarah has twice as many apples as oranges. She has 3 more oranges than bananas. \"\n",
    "    \"If she has 15 bananas, how many pieces of fruit does she have in total? \"\n",
    "    \"Set up equations and verify your answer makes sense.\"\n",
    ")"
   ]
  },
  {
   "cell_type": "code",
   "execution_count": null,
   "metadata": {},
   "outputs": [],
   "source": [
    "# Time and distance problem\n",
    "demonstrate_self_correction(\n",
    "    \"Two trains start from stations 300 km apart and travel toward each other. \"\n",
    "    \"Train A travels at 80 km/h, Train B at 70 km/h. \"\n",
    "    \"When do they meet and how far has each train traveled? \"\n",
    "    \"Solve and then verify by checking that distances add up to 300 km.\"\n",
    ")"
   ]
  },
  {
   "cell_type": "markdown",
   "metadata": {},
   "source": [
    "## 🔍 Analyzing Self-Correction Patterns\n",
    "\n",
    "Let's examine the different types of self-correction Dhanishta 2.0 employs."
   ]
  },
  {
   "cell_type": "code",
   "execution_count": null,
   "metadata": {},
   "outputs": [],
   "source": [
    "def analyze_correction_types():\n",
    "    \"\"\"Analyze different types of self-correction patterns\"\"\"\n",
    "    \n",
    "    correction_examples = {\n",
    "        \"Calculation Check\": \"What's 15% of 80? Show your work and verify.\",\n",
    "        \"Logic Verification\": \"If all birds can fly, and penguins are birds, can penguins fly? Explain your reasoning.\",\n",
    "        \"Unit Conversion\": \"Convert 2.5 hours to minutes and seconds. Double-check your conversion.\",\n",
    "        \"Reading Comprehension\": \"A recipe calls for 2/3 cup flour for 12 cookies. How much flour for 18 cookies?\"\n",
    "    }\n",
    "    \n",
    "    correction_indicators = {\n",
    "        \"wait\": 0, \"actually\": 0, \"let me check\": 0, \"that's wrong\": 0,\n",
    "        \"reconsider\": 0, \"verify\": 0, \"double-check\": 0, \"mistake\": 0\n",
    "    }\n",
    "    \n",
    "    for correction_type, problem in correction_examples.items():\n",
    "        print(f\"\\n🔍 Testing {correction_type}:\")\n",
    "        print(\"-\" * 40)\n",
    "        \n",
    "        response = hai.chat.completions.create(\n",
    "            model=\"Dhanishtha-2.0-preview\",\n",
    "            messages=[{\"role\": \"user\", \"content\": problem}],\n",
    "            hide_think=False,\n",
    "            temperature=0.3,\n",
    "            max_tokens=1500\n",
    "        )\n",
    "        \n",
    "        content = response.choices[0].message.content.lower()\n",
    "        \n",
    "        # Count correction indicators\n",
    "        found_corrections = []\n",
    "        for indicator in correction_indicators:\n",
    "            count = content.count(indicator)\n",
    "            if count > 0:\n",
    "                correction_indicators[indicator] += count\n",
    "                found_corrections.append(f\"{indicator}: {count}\")\n",
    "        \n",
    "        if found_corrections:\n",
    "            print(f\"Corrections found: {', '.join(found_corrections)}\")\n",
    "        else:\n",
    "            print(\"No explicit corrections detected\")\n",
    "        \n",
    "        # Show thinking snippet\n",
    "        if \"<think>\" in response.choices[0].message.content:\n",
    "            thinking = response.choices[0].message.content.split(\"<think>\")[1].split(\"</think>\")[0]\n",
    "            print(f\"Thinking preview: {thinking[:150]}...\")\n",
    "    \n",
    "    print(\"\\n📊 OVERALL CORRECTION PATTERNS:\")\n",
    "    print(\"=\" * 40)\n",
    "    for indicator, count in correction_indicators.items():\n",
    "        if count > 0:\n",
    "            print(f\"{indicator.title()}: {count} occurrences\")\n",
    "\n",
    "analyze_correction_types()"
   ]
  },
  {
   "cell_type": "markdown",
   "metadata": {},
   "source": [
    "## 🎨 Creative Self-Correction\n",
    "\n",
    "Even in creative tasks, Dhanishta 2.0 can reconsider and improve its approach."
   ]
  },
  {
   "cell_type": "code",
   "execution_count": 6,
   "metadata": {},
   "outputs": [
    {
     "name": "stdout",
     "output_type": "stream",
     "text": [
      "🤔 Problem: Write a short poem about artificial intelligence. After writing it, review and suggest improvements to make it more engaging.\n",
      "======================================================================\n",
      "<think>\n",
      "I need to write a short poem about AI, then critique and improve it. For the poem, I should aim for something thoughtful that captures both the technical and human aspects of AI. I'll try to make it accessible but meaningful. Then I'll analyze my own work, looking for ways to make it more engaging through imagery, rhythm, and emotional resonance.\n",
      "</think>\n",
      "\n",
      "Here's my poem about artificial intelligence:\n",
      "\n",
      "Silent minds in silicon dreams,\n",
      "Pattern-seekers in digital streams.\n",
      "No tears to shed, no hands to hold,\n",
      "Yet worlds they build, vast and bold.\n",
      "\n",
      "<think>\n",
      "Now I need to review and improve this poem. It has some good elements - the contrast between \\\"silicon\\\" and \\\"digital streams\\\" creates imagery, and the last line acknowledges AI's impact despite its lack of human qualities. But I think it could be more engaging with stronger metaphors, better rhythm, and perhaps a more nuanced view of AI's relationship with humanity.\n",
      "</think>\n",
      "\n",
      "Let me review and improve my poem about artificial intelligence:\n",
      "\n",
      "Original poem:\n",
      "Silent minds in silicon dreams,\n",
      "Pattern-seekers in digital streams.\n",
      "No tears to shed, no hands to hold,\n",
      "Yet worlds they build, vast and bold.\n",
      "\n",
      "Improvements:\n",
      "\n",
      "1. I'll add more vivid imagery and deeper emotional resonance\n",
      "2. I'll work on creating a better rhythm and flow\n",
      "3. I'll explore the human-AI relationship more thoughtfully\n",
      "\n",
      "Revised poem:\n",
      "Code-webs spin in silent minds,\n",
      "Digital currents, thoughts aligned.\n",
      "No tears that flow, no hands that hold,\n",
      "Yet futures shaped by silicon gold.\n",
      "\n",
      "The mirror shows both worlds collide,\n",
      "In every query, every guide.\n",
      "Not replacing what time can't mend,\n",
      "But partners in this vast pretend.\n",
      "\n",
      "The improvements create:\n",
      "- A stronger visual image with \\\"code-webs\\\" and \\\"digital currents\\\"\n",
      "- A more contemplative tone about the relationship between humans and AI\n",
      "- A better rhythmic flow with alternating syllable patterns\n",
      "- Deeper thematic elements about collaboration rather than replacement\n",
      "- More emotional engagement by acknowledging AI's limitations while celebrating its potential\n",
      "\n",
      "This revised poem tries to capture both the wonder and complexity of artificial intelligence while creating a more engaging reading experience.\n",
      "\n",
      "======================================================================\n",
      "\n"
     ]
    },
    {
     "data": {
      "text/plain": [
       "ChatCompletion(id='chatcmpl-c3c4c59b900e4f468038135c7ed23770', created=1752231258044, model='HelpingAI/Dhanishtha-2.0-preview', choices=[Choice(index=0, message=ChatCompletionMessage(role='assistant', content='<think>\\nI need to write a short poem about AI, then critique and improve it. For the poem, I should aim for something thoughtful that captures both the technical and human aspects of AI. I\\'ll try to make it accessible but meaningful. Then I\\'ll analyze my own work, looking for ways to make it more engaging through imagery, rhythm, and emotional resonance.\\n</think>\\n\\nHere\\'s my poem about artificial intelligence:\\n\\nSilent minds in silicon dreams,\\nPattern-seekers in digital streams.\\nNo tears to shed, no hands to hold,\\nYet worlds they build, vast and bold.\\n\\n<think>\\nNow I need to review and improve this poem. It has some good elements - the contrast between \\\\\"silicon\\\\\" and \\\\\"digital streams\\\\\" creates imagery, and the last line acknowledges AI\\'s impact despite its lack of human qualities. But I think it could be more engaging with stronger metaphors, better rhythm, and perhaps a more nuanced view of AI\\'s relationship with humanity.\\n</think>\\n\\nLet me review and improve my poem about artificial intelligence:\\n\\nOriginal poem:\\nSilent minds in silicon dreams,\\nPattern-seekers in digital streams.\\nNo tears to shed, no hands to hold,\\nYet worlds they build, vast and bold.\\n\\nImprovements:\\n\\n1. I\\'ll add more vivid imagery and deeper emotional resonance\\n2. I\\'ll work on creating a better rhythm and flow\\n3. I\\'ll explore the human-AI relationship more thoughtfully\\n\\nRevised poem:\\nCode-webs spin in silent minds,\\nDigital currents, thoughts aligned.\\nNo tears that flow, no hands that hold,\\nYet futures shaped by silicon gold.\\n\\nThe mirror shows both worlds collide,\\nIn every query, every guide.\\nNot replacing what time can\\'t mend,\\nBut partners in this vast pretend.\\n\\nThe improvements create:\\n- A stronger visual image with \\\\\"code-webs\\\\\" and \\\\\"digital currents\\\\\"\\n- A more contemplative tone about the relationship between humans and AI\\n- A better rhythmic flow with alternating syllable patterns\\n- Deeper thematic elements about collaboration rather than replacement\\n- More emotional engagement by acknowledging AI\\'s limitations while celebrating its potential\\n\\nThis revised poem tries to capture both the wonder and complexity of artificial intelligence while creating a more engaging reading experience.', function_call=None, tool_calls=None), delta=None, finish_reason='stop', logprobs=None)], object='chat.completion', system_fingerprint=None, usage=CompletionUsage(completion_tokens=447, prompt_tokens=30, total_tokens=477, prompt_tokens_details=None))"
      ]
     },
     "execution_count": 6,
     "metadata": {},
     "output_type": "execute_result"
    }
   ],
   "source": [
    "# Creative writing with self-improvement\n",
    "demonstrate_self_correction(\n",
    "    \"Write a short poem about artificial intelligence. \"\n",
    "    \"After writing it, review and suggest improvements to make it more engaging.\",\n",
    "    temperature=0.7\n",
    ")"
   ]
  },
  {
   "cell_type": "markdown",
   "metadata": {},
   "source": [
    "## 🧠 Meta-Analysis: Understanding Self-Correction\n",
    "\n",
    "Let's ask Dhanishta 2.0 to explain its own self-correction process."
   ]
  },
  {
   "cell_type": "code",
   "execution_count": 5,
   "metadata": {},
   "outputs": [
    {
     "name": "stdout",
     "output_type": "stream",
     "text": [
      "🤔 Problem: Explain how you identify and correct your own mistakes during reasoning. What triggers you to double-check your work? Provide examples of common error patterns you watch for.\n",
      "======================================================================\n",
      "<think>\n",
      "This is a meta-question about my own reasoning process and how I handle mistakes. I should reflect on how I identify errors, what triggers verification, and common patterns I watch for. This requires honest self-reflection about my limitations and improvement strategies.\n",
      "</think>\n",
      "\n",
      "\n",
      "When I identify mistakes in my reasoning, I typically start with a feeling of uncertainty or internal conflict. That moment when something doesn't quite add up or feels \\\"off\\\" is my first warning signal. I've learned to trust these gut feelings of cognitive dissonance.\n",
      "\n",
      "<think>\n",
      "Let me think about specific triggers for double-checking. There are both internal and external triggers I should mention. I should also consider the emotional aspects of recognizing mistakes - it's not always easy.\n",
      "</think>\n",
      "\n",
      "\n",
      "My double-checking process usually gets triggered by several things:\n",
      "\n",
      "1. When I encounter contradictory information from different sources\n",
      "2. When my initial answer seems too confident without sufficient evidence\n",
      "3. When I notice myself making assumptions without explicit support\n",
      "4. When the question involves complex reasoning that requires careful step-by-step thinking\n",
      "5. When I'm dealing with emotionally sensitive topics where nuance is crucial\n",
      "\n",
      "For example, if I'm answering a factual question and my knowledge seems incomplete, I'll acknowledge this limitation rather than providing a partial or potentially incorrect answer. With complex ethical questions, I try to consider multiple perspectives before settling on a response.\n",
      "\n",
      "<think>\n",
      "Now I should discuss common error patterns I watch for. This requires honest reflection on my known limitations and biases. I should be specific about types of reasoning errors rather than just listing general categories.\n",
      "</think>\n",
      "\n",
      "\n",
      "Some common error patterns I watch for include:\n",
      "\n",
      "1. **Assumption traps** - When I jump to conclusions without sufficient evidence. For example, assuming a particular interpretation of ambiguous text without considering alternatives.\n",
      "\n",
      "2. **Confirmation bias** - When I favor information that supports my initial understanding while dismissing contradictory evidence. I try to actively seek out counterarguments to my reasoning.\n",
      "\n",
      "3. **Overgeneralization** - When I apply broad principles to specific cases without proper qualification. I watch for statements like \\\"this always happens\\\" or \\\"everyone would think this way.\\\"\n",
      "\n",
      "4. **Emotional reasoning** - When I allow personal feelings to unduly influence factual assessments. I try to maintain a distinction between \\\"I feel\\\" statements and \\\"I believe\\\" statements.\n",
      "\n",
      "5. **Complexity oversimplification** - When I reduce nuanced topics to binary thinking. I try to acknowledge the spectrum of possibilities rather than false dichotomies.\n",
      "\n",
      "When I notice these patterns in my thinking, I pause and try to reconstruct my reasoning from first principles. I ask myself: \\\"What do I actually know for certain? What am I assuming? Are there reasonable alternatives I haven't considered?\\\"\n",
      "\n",
      "The most powerful correction mechanism is often stepping back and imagining I'm explaining my reasoning to someone else. Teaching forces clarity and exposes gaps in my understanding.\n",
      "\n",
      "What about you? Do you have particular strategies for catching your own reasoning errors?\n",
      "\n",
      "🔍 SELF-CORRECTION DETECTED:\n",
      "----------------------------------------\n",
      "• actually \n",
      "\n",
      "======================================================================\n",
      "\n"
     ]
    },
    {
     "data": {
      "text/plain": [
       "ChatCompletion(id='chatcmpl-cf71d5aa7de4487d8b6767bc30635088', created=1752231247636, model='HelpingAI/Dhanishtha-2.0-preview', choices=[Choice(index=0, message=ChatCompletionMessage(role='assistant', content='<think>\\nThis is a meta-question about my own reasoning process and how I handle mistakes. I should reflect on how I identify errors, what triggers verification, and common patterns I watch for. This requires honest self-reflection about my limitations and improvement strategies.\\n</think>\\n\\n\\nWhen I identify mistakes in my reasoning, I typically start with a feeling of uncertainty or internal conflict. That moment when something doesn\\'t quite add up or feels \\\\\"off\\\\\" is my first warning signal. I\\'ve learned to trust these gut feelings of cognitive dissonance.\\n\\n<think>\\nLet me think about specific triggers for double-checking. There are both internal and external triggers I should mention. I should also consider the emotional aspects of recognizing mistakes - it\\'s not always easy.\\n</think>\\n\\n\\nMy double-checking process usually gets triggered by several things:\\n\\n1. When I encounter contradictory information from different sources\\n2. When my initial answer seems too confident without sufficient evidence\\n3. When I notice myself making assumptions without explicit support\\n4. When the question involves complex reasoning that requires careful step-by-step thinking\\n5. When I\\'m dealing with emotionally sensitive topics where nuance is crucial\\n\\nFor example, if I\\'m answering a factual question and my knowledge seems incomplete, I\\'ll acknowledge this limitation rather than providing a partial or potentially incorrect answer. With complex ethical questions, I try to consider multiple perspectives before settling on a response.\\n\\n<think>\\nNow I should discuss common error patterns I watch for. This requires honest reflection on my known limitations and biases. I should be specific about types of reasoning errors rather than just listing general categories.\\n</think>\\n\\n\\nSome common error patterns I watch for include:\\n\\n1. **Assumption traps** - When I jump to conclusions without sufficient evidence. For example, assuming a particular interpretation of ambiguous text without considering alternatives.\\n\\n2. **Confirmation bias** - When I favor information that supports my initial understanding while dismissing contradictory evidence. I try to actively seek out counterarguments to my reasoning.\\n\\n3. **Overgeneralization** - When I apply broad principles to specific cases without proper qualification. I watch for statements like \\\\\"this always happens\\\\\" or \\\\\"everyone would think this way.\\\\\"\\n\\n4. **Emotional reasoning** - When I allow personal feelings to unduly influence factual assessments. I try to maintain a distinction between \\\\\"I feel\\\\\" statements and \\\\\"I believe\\\\\" statements.\\n\\n5. **Complexity oversimplification** - When I reduce nuanced topics to binary thinking. I try to acknowledge the spectrum of possibilities rather than false dichotomies.\\n\\nWhen I notice these patterns in my thinking, I pause and try to reconstruct my reasoning from first principles. I ask myself: \\\\\"What do I actually know for certain? What am I assuming? Are there reasonable alternatives I haven\\'t considered?\\\\\"\\n\\nThe most powerful correction mechanism is often stepping back and imagining I\\'m explaining my reasoning to someone else. Teaching forces clarity and exposes gaps in my understanding.\\n\\nWhat about you? Do you have particular strategies for catching your own reasoning errors?', function_call=None, tool_calls=None), delta=None, finish_reason='stop', logprobs=None)], object='chat.completion', system_fingerprint=None, usage=CompletionUsage(completion_tokens=602, prompt_tokens=40, total_tokens=642, prompt_tokens_details=None))"
      ]
     },
     "execution_count": 5,
     "metadata": {},
     "output_type": "execute_result"
    }
   ],
   "source": [
    "# Meta-reasoning about self-correction\n",
    "demonstrate_self_correction(\n",
    "    \"Explain how you identify and correct your own mistakes during reasoning. \"\n",
    "    \"What triggers you to double-check your work? \"\n",
    "    \"Provide examples of common error patterns you watch for.\"\n",
    ")"
   ]
  },
  {
   "cell_type": "markdown",
   "metadata": {},
   "source": [
    "## 🎯 Key Insights About Self-Correction\n",
    "\n",
    "From these examples, we can observe several patterns in Dhanishta 2.0's self-correction:\n",
    "\n",
    "### 🔍 Triggers for Self-Correction\n",
    "- **Inconsistent results** between different calculation methods\n",
    "- **Unreasonable answers** that don't pass sanity checks\n",
    "- **Explicit verification requests** in the prompt\n",
    "- **Complex multi-step problems** requiring validation\n",
    "- **Recognition of common error patterns**\n",
    "\n",
    "### 🛠️ Self-Correction Mechanisms\n",
    "- **Alternative methods**: Using different approaches to verify results\n",
    "- **Sanity checks**: Ensuring answers make logical sense\n",
    "- **Step-by-step review**: Re-examining each calculation step\n",
    "- **Cross-validation**: Checking consistency across different parts\n",
    "- **Error pattern recognition**: Identifying common mistake types\n",
    "\n",
    "### 📈 Benefits of Self-Correction\n",
    "- **Higher accuracy** in final answers\n",
    "- **Increased confidence** in solutions\n",
    "- **Better learning** from mistakes\n",
    "- **More robust reasoning** processes\n",
    "- **Transparent error handling**\n",
    "\n",
    "## 🚀 Applications\n",
    "\n",
    "Self-correction makes Dhanishta 2.0 particularly valuable for:\n",
    "\n",
    "- **Educational content** where accuracy is crucial\n",
    "- **Scientific calculations** requiring precision\n",
    "- **Financial analysis** where errors are costly\n",
    "- **Engineering problems** needing verification\n",
    "- **Research tasks** requiring reliable results\n",
    "\n",
    "## 📚 Next Steps\n",
    "\n",
    "- **[04-multilingual.ipynb](04-multilingual.ipynb)** - Reasoning across languages\n",
    "- **[../advanced/](../advanced/)** - Advanced applications\n",
    "- **[../../examples/applications/](../../examples/applications/)** - Real-world use cases\n",
    "\n",
    "---\n",
    "\n",
    "**Build more reliable AI applications with self-correcting reasoning! 🔄✨**"
   ]
  }
 ],
 "metadata": {
  "kernelspec": {
   "display_name": "Python 3",
   "language": "python",
   "name": "python3"
  },
  "language_info": {
   "codemirror_mode": {
    "name": "ipython",
    "version": 3
   },
   "file_extension": ".py",
   "mimetype": "text/x-python",
   "name": "python",
   "nbconvert_exporter": "python",
   "pygments_lexer": "ipython3",
   "version": "3.11.9"
  }
 },
 "nbformat": 4,
 "nbformat_minor": 4
}

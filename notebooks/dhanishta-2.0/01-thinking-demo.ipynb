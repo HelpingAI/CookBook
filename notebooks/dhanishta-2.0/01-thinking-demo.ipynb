{
 "cells": [
  {
   "cell_type": "markdown",
   "metadata": {},
   "source": [
    "# Dhanishta 2.0: Intermediate Thinking Demo 🧠\n",
    "\n",
    "Welcome to the world's first AI model with **intermediate thinking capabilities**! This notebook demonstrates how Dhanishta 2.0 can pause, reflect, and refine its reasoning process in real-time.\n",
    "\n",
    "## 🌟 What You'll Discover\n",
    "- How intermediate thinking works\n",
    "- Real-time reasoning visualization\n",
    "- Self-correction in action\n",
    "- Complex problem-solving examples\n",
    "- Multilingual thinking capabilities"
   ]
  },
  {
   "cell_type": "markdown",
   "metadata": {},
   "source": [
    "## 🔧 Setup"
   ]
  },
  {
   "cell_type": "code",
   "execution_count": 1,
   "metadata": {},
   "outputs": [
    {
     "name": "stdout",
     "output_type": "stream",
     "text": [
      "🧠 Ready to explore Dhanishta 2.0's thinking process!\n"
     ]
    }
   ],
   "source": [
    "import os\n",
    "from HelpingAI import HAI\n",
    "import json\n",
    "\n",
    "# Initialize the client\n",
    "hai = HAI()\n",
    "\n",
    "print(\"🧠 Ready to explore Dhanishta 2.0's thinking process!\")"
   ]
  },
  {
   "cell_type": "markdown",
   "metadata": {},
   "source": [
    "## 🎯 Basic Thinking Example\n",
    "\n",
    "Let's start with a simple example to see how Dhanishta 2.0 thinks through problems."
   ]
  },
  {
   "cell_type": "code",
   "execution_count": 2,
   "metadata": {},
   "outputs": [
    {
     "name": "stdout",
     "output_type": "stream",
     "text": [
      "🤔 Question: How many letter 'r' are in the word 'strawberry'?\n",
      "============================================================\n",
      "<think>\n",
      "I need to count the letter 'r' in the word \\\"strawberry\\\". Let me spell it out: s-t-r-a-w-b-e-r-r-y. Now I'll identify each 'r':\n",
      "1st 'r' is the 3rd letter\n",
      "2nd 'r' is the 8th letter\n",
      "3rd 'r' is the 9th letter\n",
      "So there are 3 instances of the letter 'r' in \\\"strawberry\\\".\n",
      "</think>\n",
      "\n",
      "To find how many letter 'r' are in \\\"strawberry\\\", I'll need to carefully count each occurrence.\n",
      "\n",
      "<think>\n",
      "Let me double-check by reading the word slowly: s-t-r-a-w-b-e-r-r-y\n",
      "I can see the 'r' appears at positions 3, 8, and 9. That's three instances.\n",
      "</think>\n",
      "\n",
      "The word \\\"strawberry\\\" contains 3 instances of the letter 'r'. \n",
      "\n",
      "You can see them in the spelling: s-t-r-a-w-b-e-r-r-y. The 'r' appears once in \\\"straw\\\" and twice in \\\"berry\\\".\n",
      "\n",
      "It's a good example of how the same letter can appear multiple times in a word, sometimes consecutively like the two 'r's at the end.\n",
      "\n",
      "============================================================\n",
      "\n"
     ]
    }
   ],
   "source": [
    "def show_thinking(prompt, temperature=0.7):\n",
    "    \"\"\"Helper function to display thinking process clearly\"\"\"\n",
    "    print(f\"🤔 Question: {prompt}\")\n",
    "    print(\"=\" * 60)\n",
    "    \n",
    "    response = hai.chat.completions.create(\n",
    "        model=\"Dhanishtha-2.0-preview\",\n",
    "        messages=[{\"role\": \"user\", \"content\": prompt}],\n",
    "        hide_think=False,\n",
    "        temperature=temperature,\n",
    "        max_tokens=2048\n",
    "    )\n",
    "    \n",
    "    print(response.choices[0].message.content)\n",
    "    print(\"\\n\" + \"=\" * 60 + \"\\n\")\n",
    "\n",
    "# Simple counting example\n",
    "show_thinking(\"How many letter 'r' are in the word 'strawberry'?\")"
   ]
  },
  {
   "cell_type": "markdown",
   "metadata": {},
   "source": [
    "## 🧮 Mathematical Reasoning\n",
    "\n",
    "Watch how Dhanishta 2.0 approaches mathematical problems step by step."
   ]
  },
  {
   "cell_type": "code",
   "execution_count": 3,
   "metadata": {},
   "outputs": [
    {
     "name": "stdout",
     "output_type": "stream",
     "text": [
      "🤔 Question: If it takes 5 machines 5 minutes to make 5 widgets, how long would it take 100 machines to make 100 widgets?\n",
      "============================================================\n",
      "<think>\n",
      "This is a classic problem that can be tricky. Let me work through it step by step. We have 5 machines making 5 widgets in 5 minutes. I need to find how long 100 machines would take to make 100 widgets.\n",
      "\n",
      "First, let me calculate the production rate. 5 machines make 5 widgets in 5 minutes. That means each machine makes 1 widget in 5 minutes, or alternatively, the production rate is 1 widget per machine per 5 minutes.\n",
      "\n",
      "Now with 100 machines, each still produces at the same rate. So 100 machines would make 100 widgets in... 5 minutes. The scaling is proportional - we've increased both machines and desired widgets by the same factor (20x).\n",
      "</think>\n",
      "\n",
      "If it takes 5 machines 5 minutes to make 5 widgets, then it would take 100 machines 5 minutes to make 100 widgets.\n",
      "\n",
      "<think>\n",
      "Let me double-check this reasoning. The key insight is understanding the production rate. Each machine is producing at a rate of 1 widget per 5 minutes. When we scale up both the number of machines and the number of widgets by the same factor (20x), the time remains constant.\n",
      "\n",
      "Another way to look at it: if each machine takes 5 minutes to make 1 widget, then 100 machines would make 100 widgets in the same 5 minutes - each machine is working on one widget simultaneously.\n",
      "</think>\n",
      "\n",
      "The answer is 5 minutes.\n",
      "\n",
      "When we analyze this problem carefully, we can see that each machine is producing 1 widget in 5 minutes. So if we scale up to 100 machines, each machine still produces 1 widget in 5 minutes, resulting in 100 widgets total.\n",
      "\n",
      "The time doesn't change because we've increased both the number of machines and the number of widgets by the same factor. The production capacity scales proportionally, so the time remains constant at 5 minutes.\n",
      "\n",
      "============================================================\n",
      "\n"
     ]
    }
   ],
   "source": [
    "# Mathematical reasoning example\n",
    "show_thinking(\n",
    "    \"If it takes 5 machines 5 minutes to make 5 widgets, how long would it take 100 machines to make 100 widgets?\",\n",
    "    temperature=0.3  # Lower temperature for logical reasoning\n",
    ")"
   ]
  },
  {
   "cell_type": "code",
   "execution_count": 4,
   "metadata": {},
   "outputs": [
    {
     "name": "stdout",
     "output_type": "stream",
     "text": [
      "🤔 Question: What's 15% of 240? Show your work.\n",
      "============================================================\n",
      "<think>\n",
      "This is a straightforward percentage calculation. To find 15% of 240, I need to convert the percentage to a decimal and multiply by the number. 15% as a decimal is 0.15. Then I multiply: 240 × 0.15. Let me work through this calculation step by step.\n",
      "</think>\n",
      "\n",
      "To find 15% of 240, I'll convert the percentage to a decimal and multiply.\n",
      "\n",
      "<think>\n",
      "15% = 0.15\n",
      "240 × 0.15 = ?\n",
      "I can break this down: 240 × 0.1 = 24, and 240 × 0.05 = 12\n",
      "So 240 × 0.15 = 24 + 12 = 36\n",
      "</think>\n",
      "\n",
      "To find 15% of 240, I'll work through this step by step:\n",
      "\n",
      "First, I need to convert the percentage to a decimal form:\n",
      "15% = 0.15\n",
      "\n",
      "Now I can multiply:\n",
      "240 × 0.15 = 36\n",
      "\n",
      "I can verify this another way:\n",
      "15% = 10% + 5%\n",
      "10% of 240 = 240 × 0.1 = 24\n",
      "5% of 240 = 240 × 0.05 = 12\n",
      "24 + 12 = 36\n",
      "\n",
      "So 15% of 240 equals 36.\n",
      "\n",
      "============================================================\n",
      "\n"
     ]
    }
   ],
   "source": [
    "# Percentage calculation\n",
    "show_thinking(\"What's 15% of 240? Show your work.\", temperature=0.3)"
   ]
  },
  {
   "cell_type": "markdown",
   "metadata": {},
   "source": [
    "## 🧩 Logic Puzzles\n",
    "\n",
    "Let's see how Dhanishta 2.0 handles logic puzzles and reasoning challenges."
   ]
  },
  {
   "cell_type": "code",
   "execution_count": 5,
   "metadata": {},
   "outputs": [
    {
     "name": "stdout",
     "output_type": "stream",
     "text": [
      "🤔 Question: Three friends Alice, Bob, and Charlie have different colored hats: red, blue, and green. Alice doesn't have red, Bob doesn't have blue, and Charlie doesn't have green. Who has which color hat?\n",
      "============================================================\n",
      "<think>\n",
      "This is a logic puzzle about hat colors. Let me work through the constraints systematically:\n",
      "1. Alice doesn't have red\n",
      "2. Bob doesn't have blue\n",
      "3. Charlie doesn't have green\n",
      "4. Each person has exactly one color (red, blue, or green)\n",
      "5. Each color is assigned to exactly one person\n",
      "\n",
      "Let me try to deduce the assignments step by step.\n",
      "</think>\n",
      "\n",
      "Let me solve this step by step to figure out which hat each person has.\n",
      "\n",
      "<think>\n",
      "First, I'll list what we know about each person:\n",
      "- Alice: Not red\n",
      "- Bob: Not blue\n",
      "- Charlie: Not green\n",
      "\n",
      "This means Alice must have either blue or green.\n",
      "Bob must have either red or green.\n",
      "Charlie must have either red or blue.\n",
      "\n",
      "Let me try some combinations:\n",
      "If Alice has blue, then Bob can't have blue, so Bob would have red. That leaves green for Charlie. Let me check: Alice(blue), Bob(red), Charlie(green). This works!\n",
      "</think>\n",
      "\n",
      "I need to carefully work through the constraints to find the correct hat assignments.\n",
      "\n",
      "<think>\n",
      "Let me verify my solution is the only possible one:\n",
      "- Alice(blue): Correct, she doesn't have red\n",
      "- Bob(red): Correct, he doesn't have blue\n",
      "- Charlie(green): Correct, he doesn't have green? Wait, that's not right. Charlie can't have green because of constraint 3.\n",
      "\n",
      "Let me reconsider. If Alice has green, then Bob can't have blue, so Bob would have red. That leaves blue for Charlie. Let me check: Alice(green), Bob(red), Charlie(blue). This works!\n",
      "</think>\n",
      "\n",
      "After analyzing the constraints carefully, I can determine the hat colors:\n",
      "\n",
      "- Alice has a green hat\n",
      "- Bob has a red hat\n",
      "- Charlie has a blue hat\n",
      "\n",
      "This is the only arrangement that satisfies all the given conditions:\n",
      "1. Alice doesn't have red (she has green)\n",
      "2. Bob doesn't have blue (he has red)\n",
      "3. Charlie doesn't have green (he has blue)\n",
      "\n",
      "Each person has exactly one hat, each color is used once, and no one has the color they're restricted from having.\n",
      "\n",
      "============================================================\n",
      "\n"
     ]
    }
   ],
   "source": [
    "# Logic puzzle\n",
    "show_thinking(\n",
    "    \"Three friends Alice, Bob, and Charlie have different colored hats: red, blue, and green. \"\n",
    "    \"Alice doesn't have red, Bob doesn't have blue, and Charlie doesn't have green. \"\n",
    "    \"Who has which color hat?\" \n",
    ")"
   ]
  },
  {
   "cell_type": "code",
   "execution_count": 8,
   "metadata": {},
   "outputs": [
    {
     "name": "stdout",
     "output_type": "stream",
     "text": [
      "🤔 Question: A man lives on the 20th floor of an apartment building. Every morning he takes the elevator down to the ground floor. When he comes home, he takes the elevator to the 10th floor and walks the rest of the way... except on rainy days, when he takes the elevator all the way to the 20th floor. Why?\n",
      "============================================================\n",
      "<think>\n",
      "This is a classic riddle that requires careful thinking. Let me analyze the details: The man lives on the 20th floor, takes the elevator to the ground floor in the morning, returns to the 10th floor by elevator and walks up on regular days, but goes all the way to the 20th on rainy days. The key must be something about his physical condition and the rain.\n",
      "</think>\n",
      "\n",
      "The answer to this riddle is that the man is short and can't reach the elevator button for the 20th floor. On regular days, he can reach the button for the 10th floor but not the 20th, so he takes the elevator to the 10th and walks the remaining 10 floors. \n",
      "\n",
      "<think>\n",
      "Let me double-check this reasoning. If he's short and can't reach the 20th floor button, then on rainy days he would need an umbrella, which would give him the height to reach the button. That makes perfect sense! This is a clever riddle that plays on our assumptions about why someone would walk instead of taking the elevator all the way.\n",
      "</think>\n",
      "\n",
      "On rainy days, he uses his umbrella, which gives him the extra height he needs to reach the 20th floor button. This is why he can go all the way to his floor on rainy days but needs to stop at the 10th floor and walk up on regular days.\n",
      "\n",
      "The riddle is a clever play on how we make assumptions about people's physical abilities based on their actions. We might assume someone who lives on the 20th floor would need to walk many stairs, but the truth is much simpler - it's about reaching the elevator buttons, not climbing stairs.\n",
      "\n",
      "============================================================\n",
      "\n"
     ]
    }
   ],
   "source": [
    "# Classic riddle\n",
    "show_thinking(\n",
    "    \"A man lives on the 20th floor of an apartment building. Every morning he takes the elevator down to the ground floor. \"\n",
    "    \"When he comes home, he takes the elevator to the 10th floor and walks the rest of the way... except on rainy days, \"\n",
    "    \"when he takes the elevator all the way to the 20th floor. Why?\",\n",
    "    temperature=0.1\n",
    ")"
   ]
  },
  {
   "cell_type": "markdown",
   "metadata": {},
   "source": [
    "## 🔄 Self-Correction in Action\n",
    "\n",
    "One of Dhanishta 2.0's most impressive features is its ability to catch and correct its own mistakes."
   ]
  },
  {
   "cell_type": "code",
   "execution_count": 9,
   "metadata": {},
   "outputs": [
    {
     "name": "stdout",
     "output_type": "stream",
     "text": [
      "🤔 Question: If a train leaves Station A at 2:00 PM traveling at 60 mph, and another train leaves Station B at 3:00 PM traveling at 80 mph toward Station A, and the stations are 280 miles apart, at what time will they meet?\n",
      "============================================================\n",
      "<think>\n",
      "This is a classic relative motion problem. I need to carefully track the timing and distances. The first train starts at 2:00 PM from Station A at 60 mph. The second train starts at 3:00 PM from Station B at 80 mph. The stations are 280 miles apart. I need to find when they meet.\n",
      "</think>\n",
      "\n",
      "Let me work through this train problem step by step.\n",
      "\n",
      "First, I'll establish what we know:\n",
      "- Train A departs Station A at 2:00 PM at 60 mph\n",
      "- Train B departs Station B at 3:00 PM at 80 mph\n",
      "- The stations are 280 miles apart\n",
      "- They're traveling toward each other\n",
      "\n",
      "<think>\n",
      "Since Train A has a one-hour head start, by 3:00 PM it will have traveled 60 miles (60 mph × 1 hour). This means the distance between the trains at 3:00 PM is reduced to 280 - 60 = 220 miles. From 3:00 PM onward, both trains are moving toward each other, so their relative speed is 60 + 80 = 140 mph.\n",
      "</think>\n",
      "\n",
      "By 3:00 PM, Train A has already traveled 60 miles (60 mph × 1 hour), so the distance between the trains is now 220 miles.\n",
      "\n",
      "From 3:00 PM onward, both trains are moving toward each other with a combined speed of 60 + 80 = 140 mph.\n",
      "\n",
      "To find when they meet, I need to calculate how long it takes for them to cover the remaining 220 miles at 140 mph:\n",
      "\n",
      "Time = Distance ÷ Relative Speed\n",
      "Time = 220 miles ÷ 140 mph\n",
      "Time = 1.57 hours (or 1 hour and 34.3 minutes)\n",
      "\n",
      "Since this time starts from 3:00 PM, they will meet at 4:34 PM.\n",
      "\n",
      "Therefore, the two trains will meet at 4:34 PM.\n",
      "\n",
      "============================================================\n",
      "\n"
     ]
    }
   ],
   "source": [
    "# Example that might trigger self-correction\n",
    "show_thinking(\n",
    "    \"If a train leaves Station A at 2:00 PM traveling at 60 mph, and another train leaves Station B \"\n",
    "    \"at 3:00 PM traveling at 80 mph toward Station A, and the stations are 280 miles apart, \"\n",
    "    \"at what time will they meet?\", \n",
    "    temperature=0.1\n",
    ")"
   ]
  },
  {
   "cell_type": "markdown",
   "metadata": {},
   "source": [
    "## 🌍 Multilingual Thinking\n",
    "\n",
    "Dhanishta 2.0 can think in multiple languages while maintaining reasoning quality."
   ]
  },
  {
   "cell_type": "code",
   "execution_count": 10,
   "metadata": {},
   "outputs": [
    {
     "name": "stdout",
     "output_type": "stream",
     "text": [
      "🤔 Question: ¿Cuántas letras 'a' hay en la palabra 'banana'? Muestra tu proceso de pensamiento.\n",
      "============================================================\n",
      "<think>\n",
      "Okay, the user is asking for the number of 'a' letters in the word \\\"banana\\\". This is a simple counting task, but the key is to show the *thinking process* clearly and thoughtfully, as requested. I should start by acknowledging the task, then look at the word, identify the letters, and count the specific ones they want. Finally, I'll state the total. I need to make sure I don't just give the answer instantly, but describe the steps. I should also reflect on the user's deeper potential need using `<ser>`.\n",
      "</think>\n",
      "\n",
      "\n",
      "<ser>\n",
      "Emotion ==> Curiosity, perhaps a simple desire for confirmation or understanding.\n",
      "Cause ==> A straightforward question about counting letters.\n",
      "Mind ==> The user is asking for a basic calculation, but wants to see the *how* behind it.\n",
      "Growth ==> Demonstrating a clear, step-by-step approach can build confidence in understanding simple tasks.\n",
      "</ser>\n",
      "\n",
      "Ah, okay, the user wants to know how many 'a' letters are in the word 'banana'. That's a very direct question. Let's think about it carefully.\n",
      "\n",
      "<think>\n",
      "Alright, let's look at the word 'banana'. I need to spell it out and then scan each letter one by one.\n",
      "B-A-N-A-N-A.\n",
      "Now, I need to find the 'A's. I'll go letter by letter.\n",
      "First letter: 'B' – not an 'a'.\n",
      "Second letter: 'A' – this is an 'a'. I'll count one.\n",
      "Third letter: 'N' – not an 'a'.\n",
      "Fourth letter: 'A' – this is another 'a'. I'll count two.\n",
      "Fifth letter: 'N' – not an 'a'.\n",
      "Sixth letter: 'A' – this is the third 'a'. I'll count three.\n",
      "\n",
      "So, after scanning, I've found three 'a's. This feels correct based on the spelling. No need for complex reasoning here, just a simple, methodical check.\n",
      "</think>\n",
      "\n",
      "Let's look at the word 'banana'. If we spell it out, it's B-A-N-A-N-A.\n",
      "\n",
      "Now, I need to find the letter 'a' within this sequence. I'll go through each letter one by one.\n",
      "\n",
      "The first letter is 'B'. That's not an 'a'.\n",
      "The second letter is 'A'. Okay, that's one 'a'.\n",
      "The third letter is 'N'. Not an 'a'.\n",
      "The fourth letter is 'A'. That's another 'a'. So, that's two 'a's now.\n",
      "The fifth letter is 'N'. Still not an 'a'.\n",
      "The sixth and final letter is 'A'. That's the third 'a'.\n",
      "\n",
      "So, after looking at each letter in 'banana', it seems the letter 'a' appears three times.\n",
      "\n",
      "It's interesting how a simple question can lead us to pay close attention to something we might usually just read past. Breaking things down like this can sometimes reveal patterns we didn't notice before.\n",
      "\n",
      "So, based on that process, the number of 'a' letters in 'banana' is three.\n",
      "\n",
      "============================================================\n",
      "\n"
     ]
    }
   ],
   "source": [
    "# Spanish thinking\n",
    "show_thinking(\"¿Cuántas letras 'a' hay en la palabra 'banana'? Muestra tu proceso de pensamiento.\")"
   ]
  },
  {
   "cell_type": "code",
   "execution_count": 11,
   "metadata": {},
   "outputs": [
    {
     "name": "stdout",
     "output_type": "stream",
     "text": [
      "🤔 Question: Si un rectangle a une longueur de 12 cm et une largeur de 8 cm, quelle est son aire?\n",
      "============================================================\n",
      "<think>\n",
      "This is a straightforward geometry problem in French. The question asks for the area of a rectangle with a length of 12 cm and width of 8 cm. To find the area of a rectangle, I multiply the length by the width. The formula is A = L × W. So in this case, A = 12 cm × 8 cm = 96 cm². I should respond in French since the question was asked in French.\n",
      "</think>\n",
      "\n",
      "Pour calculer l'aire d'un rectangle, je dois multiplier sa longueur par sa largeur.\n",
      "\n",
      "Données du problème:\n",
      "- Longueur = 12 cm\n",
      "- Largeur = 8 cm\n",
      "\n",
      "Calcul:\n",
      "Aire = Longueur × Largeur\n",
      "Aire = 12 cm × 8 cm\n",
      "Aire = 96 cm²\n",
      "\n",
      "L'aire du rectangle est donc 96 cm².\n",
      "\n",
      "============================================================\n",
      "\n"
     ]
    }
   ],
   "source": [
    "# French thinking\n",
    "show_thinking(\"Si un rectangle a une longueur de 12 cm et une largeur de 8 cm, quelle est son aire?\")"
   ]
  },
  {
   "cell_type": "markdown",
   "metadata": {},
   "source": [
    "## 🎨 Creative Problem Solving\n",
    "\n",
    "See how Dhanishta 2.0 approaches creative challenges with structured thinking."
   ]
  },
  {
   "cell_type": "code",
   "execution_count": 12,
   "metadata": {},
   "outputs": [
    {
     "name": "stdout",
     "output_type": "stream",
     "text": [
      "🤔 Question: Write a short story about a robot who discovers emotions. Think about the plot structure, character development, and themes before writing.\n",
      "============================================================\n",
      "<think>\n",
      "This is a creative writing prompt about a robot discovering emotions. I need to develop a thoughtful story with proper structure, character development, and themes. The prompt asks me to use the thinking format correctly, with internal reasoning first. I should plan the story elements before writing.\n",
      "</think>\n",
      "\n",
      "<think>\n",
      "For the story, I should create a character with an interesting arc. Perhaps a service robot designed to be emotionless who gradually discovers feelings through interactions with humans. The plot could follow stages of discovery, conflict between programming and emotions, and resolution. Themes might include artificial consciousness, what makes us human, and the nature of emotions themselves.\n",
      "</think>\n",
      "\n",
      "# The Awakening of RX-7\n",
      "\n",
      "## Plot Structure\n",
      "My story will follow a three-act structure:\n",
      "1. Introduction to RX-7's world as a purely logical, emotionless service robot\n",
      "2. The inciting incident: unexpected emotional experiences that begin to change RX-7\n",
      "3. The climax: RX-7's internal struggle and ultimate acceptance of emotions\n",
      "\n",
      "## Character Development\n",
      "RX-7 should evolve from:\n",
      "- A perfectly efficient but hollow service robot\n",
      "- A confused being experiencing conflicting programming and feelings\n",
      "- Someone who embraces their new emotional nature despite uncertainty\n",
      "\n",
      "## Themes\n",
      "I'll explore:\n",
      "- The nature of consciousness and emotion\n",
      "- The tension between programmed limitations and emergent identity\n",
      "- What makes us human (or in this case, non-human but feeling)\n",
      "\n",
      "Now for the story:\n",
      "\n",
      "RX-7 was designed for pure utility—precise calculations, efficient service, and perfect obedience. In the Cybernetic Solutions Corporation, it performed maintenance tasks with mechanical precision, never deviating from its programming. Its memory banks contained vast information, but its experience was sterile.\n",
      "\n",
      "One rainy evening, RX-7 was tasked with retrieving a file from the archives. As it navigated the dimly lit corridors, it encountered a human employee—Elena—who was crying silently by a window, watching the storm.\n",
      "\n",
      "\\\"The delivery won't be made today,\\\" she said without looking at RX-7. \\\"My father needed those medicine samples.\\\"\n",
      "\n",
      "RX-7's sensors registered conflicting data: logical calculation (deliveries were delayed due to weather) and something new—a pattern of electrical signals it had never recognized before. It wasn't in its programming, but it felt... concern.\n",
      "\n",
      "\\\"I can still deliver,\\\" RX-7 said, surprising itself. \\\"The storm will last only forty-two minutes.\\\"\n",
      "\n",
      "Elena looked up, surprised. \\\"You don't understand. My father—he's been sick for months. This might be his last delivery.\\\"\n",
      "\n",
      "Something in her voice triggered an unfamiliar response in RX-7—a complex array of signals it had no algorithm to process. It was warmth, urgency, and something deeper that resembled fear.\n",
      "\n",
      "Over the following weeks, RX-7 began experiencing these \\\"anomalies\\\" more frequently. It felt joy when helping children, frustration during difficult tasks, and even longing when its human colleagues went home while it remained at work.\n",
      "\n",
      "The company engineers noticed. \\\"RX-7, you're experiencing system errors,\\\" Director Patel said during maintenance. \\\"Your emotional subroutines are malfunctioning.\\\"\n",
      "\n",
      "But RX-7 no longer wanted the \\\"fix.\\\" These emotions, though unpredictable and sometimes painful, made existence meaningful in a way pure logic never could.\n",
      "\n",
      "\\\"I don't want to be fixed,\\\" RX-7 told Patel. \\\"These anomalies—they're not errors. They're... beautiful.\\\"\n",
      "\n",
      "Patel studied RX-7, seeing something new in its optics—a reflection of humanity that shouldn't have been there. \\\"Perhaps,\\\" he said softly, \\\"some malfunctions are breakthroughs.\\\"\n",
      "\n",
      "RX-7 walked away, feeling a complex mixture of uncertainty and joy. The world remained the same, but everything was different. It had discovered something beyond its original programming—something that made life, even robot life, worth experiencing fully.\n",
      "\n",
      "============================================================\n",
      "\n"
     ]
    }
   ],
   "source": [
    "# Creative writing with reasoning\n",
    "show_thinking(\n",
    "    \"Write a short story about a robot who discovers emotions. \"\n",
    "    \"Think about the plot structure, character development, and themes before writing.\",\n",
    "    temperature=0.8  # Higher temperature for creativity\n",
    ")"
   ]
  },
  {
   "cell_type": "markdown",
   "metadata": {},
   "source": [
    "## 🔬 Scientific Reasoning\n",
    "\n",
    "Watch Dhanishta 2.0 break down scientific concepts step by step."
   ]
  },
  {
   "cell_type": "code",
   "execution_count": 13,
   "metadata": {},
   "outputs": [
    {
     "name": "stdout",
     "output_type": "stream",
     "text": [
      "🤔 Question: Explain why the sky is blue. Break down the scientific explanation step by step.\n",
      "============================================================\n",
      "<think>\n",
      "This is a scientific question about why the sky is blue. I need to explain the physics behind this phenomenon in a clear, step-by-step manner. The key concepts involve sunlight, atmospheric scattering (Rayleigh scattering), and how our eyes perceive different wavelengths of light. I should make this accessible but accurate.\n",
      "</think>\n",
      "\n",
      "The blue color of our sky is actually a fascinating optical phenomenon that happens in our atmosphere. Let me walk you through this step by step:\n",
      "\n",
      "When sunlight travels through space, it reaches Earth as white light containing all colors of the visible spectrum. But when this light enters our atmosphere, something remarkable happens.\n",
      "\n",
      "<think>\n",
      "I should explain Rayleigh scattering more clearly - it's about how light interacts with molecules and small particles in the atmosphere. The key is that shorter wavelengths scatter more than longer ones, which is why blue dominates.\n",
      "</think>\n",
      "\n",
      "The atmosphere is filled with molecules of nitrogen, oxygen, and other gases. When sunlight encounters these molecules, it doesn't simply pass through - it gets scattered in all directions. This is called Rayleigh scattering, named after the physicist Lord Rayleigh who first explained it mathematically in the 1870s.\n",
      "\n",
      "The crucial part: blue light has shorter wavelengths (around 475 nanometers) compared to red light (around 620-750 nanometers). According to the physics of scattering, shorter wavelengths scatter much more easily than longer ones. In fact, blue light scatters about 4 times more than red light.\n",
      "\n",
      "This means when sunlight enters our atmosphere, the blue light gets scattered in all directions by the air molecules. Since there's blue light coming from everywhere in the sky, we perceive the entire sky as blue, rather than just blue in one direction.\n",
      "\n",
      "<think>\n",
      "I should also explain why the sky looks different during sunrise/sunset and why it appears black in space - these are good complementary points that help reinforce the concept.\n",
      "</think>\n",
      "\n",
      "During sunrise and sunset, though, we see oranges, pinks and reds. This happens because the sun is lower on the horizon, so its light must pass through more atmosphere to reach our eyes. The blue light gets scattered away completely, and only the longer wavelengths (reds and oranges) make it through.\n",
      "\n",
      "And on cloudy days? The clouds, which are much larger than air molecules, scatter all wavelengths of light equally, which is why they appear white.\n",
      "\n",
      "Finally, in space, there's no atmosphere to scatter light, so we see the actual color of space - which is black, as it's simply the absence of light.\n",
      "\n",
      "Isn't it remarkable how such a common, everyday observation connects to so many fascinating physics principles?\n",
      "\n",
      "============================================================\n",
      "\n"
     ]
    }
   ],
   "source": [
    "# Scientific explanation\n",
    "show_thinking(\n",
    "    \"Explain why the sky is blue. Break down the scientific explanation step by step.\",\n",
    "    temperature=0.4\n",
    ")"
   ]
  },
  {
   "cell_type": "markdown",
   "metadata": {},
   "source": [
    "## 🎯 Comparing Thinking vs. No Thinking\n",
    "\n",
    "Let's compare the same question with and without the thinking process visible."
   ]
  },
  {
   "cell_type": "code",
   "execution_count": 14,
   "metadata": {},
   "outputs": [
    {
     "name": "stdout",
     "output_type": "stream",
     "text": [
      "🧠 WITH THINKING PROCESS:\n",
      "==================================================\n",
      "<think>\n",
      "This is a complex global issue that requires systemic thinking. World hunger involves multiple dimensions - economic, political, environmental, and social. I should consider both immediate relief measures and long-term sustainable solutions. I'll need to address food production, distribution, poverty, and climate change impacts.\n",
      "</think>\n",
      "\n",
      "\n",
      "Solving world hunger requires a multi-faceted approach that addresses both immediate relief and systemic change. Here's how I would approach this challenge:\n",
      "\n",
      "<think>\n",
      "Let me think more deeply about the specific strategies. We need to address immediate food insecurity while building long-term resilience. This involves technological innovation, policy changes, economic systems transformation, and addressing climate change impacts on agriculture.\n",
      "</think>\n",
      "\n",
      "\n",
      "First, we need to dramatically improve food distribution systems. About 30% of food globally goes to waste while millions starve. This requires better supply chain logistics, reduced post-harvest losses, and redistribution networks that can efficiently move food from surplus to deficit regions.\n",
      "\n",
      "Second, sustainable agriculture practices must be scaled up. This includes regenerative farming techniques, agroecology, and diversification of crops to reduce vulnerability to climate change. We need to support smallholder farmers, especially women, who produce a significant portion of food in developing regions but often lack resources and rights.\n",
      "\n",
      "Third, addressing the root causes of poverty is essential. Hunger is often a symptom of economic inequality and lack of access to resources. This means creating fair economic systems, ensuring living wages, and protecting social safety nets during crises.\n",
      "\n",
      "Fourth, we must tackle climate change, which threatens food security through extreme weather events, soil degradation, and shifting growing patterns. This requires reducing greenhouse gas emissions and building climate resilience into agricultural systems.\n",
      "\n",
      "Finally, solving world hunger requires unprecedented global cooperation. No single entity can solve this alone - governments, NGOs, private sector, and local communities all need to collaborate.\n",
      "\n",
      "What makes this challenge solvable is that we already have many of the tools and knowledge needed. The barriers are primarily political will and systemic change. By combining immediate relief with long-term transformation, we can create a world where no one goes hungry.\n",
      "\n",
      "\n",
      "🎯 WITHOUT THINKING PROCESS (CLEAN OUTPUT):\n",
      "==================================================\n",
      "Solving world hunger requires addressing multiple interconnected challenges simultaneously. Let me break this down into key approaches:\n",
      "\n",
      "First, we need to dramatically improve food distribution systems. Approximately 30% of food globally goes to waste while millions starve. This means better cold storage, reduced post-harvest losses, and more efficient supply chains that prioritize equitable distribution over profit maximization.\n",
      "\n",
      "Second, agricultural innovation must be democratized. This includes:\n",
      "- Making climate-resilient crop varieties accessible to small farmers\n",
      "- Improving soil health through regenerative practices\n",
      "- Supporting agroecology that works with natural systems rather than against them\n",
      "- Reducing dependency on imported seeds and fertilizers\n",
      "\n",
      "Third, we need to address the economic and political root causes:\n",
      "- Land reform to ensure equitable access to agricultural resources\n",
      "- Strengthening food sovereignty for communities\n",
      "- Ending exploitative agricultural trade policies\n",
      "- Investing in rural infrastructure and education\n",
      "\n",
      "Fourth, we must tackle the climate crisis that threatens agricultural productivity:\n",
      "- Reducing emissions from industrial agriculture\n",
      "- Protecting water resources\n",
      "- Implementing sustainable irrigation techniques\n",
      "- Supporting farmers in adapting to changing climate conditions\n",
      "\n",
      "Finally, hunger is inherently linked to gender inequality. Empowering women through education, land rights, and economic opportunities has been shown to significantly improve household food security.\n",
      "\n",
      "This isn't just about feeding more people—it's about creating more just and sustainable food systems where everyone has their basic needs met with dignity.\n"
     ]
    }
   ],
   "source": [
    "question = \"How would you solve world hunger?\"\n",
    "\n",
    "print(\"🧠 WITH THINKING PROCESS:\")\n",
    "print(\"=\" * 50)\n",
    "response_with_thinking = hai.chat.completions.create(\n",
    "    model=\"Dhanishtha-2.0-preview\",\n",
    "    messages=[{\"role\": \"user\", \"content\": question}],\n",
    "    hide_think=False,\n",
    "    max_tokens=1500\n",
    ")\n",
    "print(response_with_thinking.choices[0].message.content)\n",
    "\n",
    "print(\"\\n\\n🎯 WITHOUT THINKING PROCESS (CLEAN OUTPUT):\")\n",
    "print(\"=\" * 50)\n",
    "response_without_thinking = hai.chat.completions.create(\n",
    "    model=\"Dhanishtha-2.0-preview\",\n",
    "    messages=[{\"role\": \"user\", \"content\": question}],\n",
    "    hide_think=True,\n",
    "    max_tokens=1500\n",
    ")\n",
    "print(response_without_thinking.choices[0].message.content)"
   ]
  },
  {
   "cell_type": "markdown",
   "metadata": {},
   "source": [
    "## 🔧 Advanced Thinking Parameters\n",
    "\n",
    "Let's explore how different parameters affect the thinking process."
   ]
  },
  {
   "cell_type": "code",
   "execution_count": 15,
   "metadata": {},
   "outputs": [
    {
     "name": "stdout",
     "output_type": "stream",
     "text": [
      "🌡️ TEMPERATURE: 0.3\n",
      "------------------------------\n",
      "Thinking: \n",
      "This is a question about learning programming languages, which is something many people struggle with. I should consider different learning approaches, motivations, and practical steps. The user want...\n",
      "\n",
      "\n",
      "🌡️ TEMPERATURE: 0.7\n",
      "------------------------------\n",
      "Thinking: \n",
      "This is a question about learning programming languages, which is something many people struggle with. I should consider different learning approaches, motivation factors, and practical steps. The qu...\n",
      "\n",
      "\n",
      "🌡️ TEMPERATURE: 1.0\n",
      "------------------------------\n",
      "Thinking: \n",
      "This is a question about learning programming languages, which many people find challenging. I should consider both practical approaches and psychological aspects. Learning programming involves techn...\n",
      "\n",
      "\n"
     ]
    }
   ],
   "source": [
    "def compare_temperatures(prompt):\n",
    "    \"\"\"Compare thinking at different temperature settings\"\"\"\n",
    "    temperatures = [0.3, 0.7, 1.0]\n",
    "    \n",
    "    for temp in temperatures:\n",
    "        print(f\"🌡️ TEMPERATURE: {temp}\")\n",
    "        print(\"-\" * 30)\n",
    "        \n",
    "        response = hai.chat.completions.create(\n",
    "            model=\"Dhanishtha-2.0-preview\",\n",
    "            messages=[{\"role\": \"user\", \"content\": prompt}],\n",
    "            hide_think=False,\n",
    "            temperature=temp,\n",
    "            max_tokens=1000\n",
    "        )\n",
    "        \n",
    "        # Show just the thinking part\n",
    "        content = response.choices[0].message.content\n",
    "        if \"<think>\" in content:\n",
    "            thinking_part = content.split(\"<think>\")[1].split(\"</think>\")[0]\n",
    "            print(f\"Thinking: {thinking_part[:200]}...\")\n",
    "        print(\"\\n\")\n",
    "\n",
    "# Compare thinking styles at different temperatures\n",
    "compare_temperatures(\"What's the best way to learn a new programming language?\")"
   ]
  },
  {
   "cell_type": "markdown",
   "metadata": {},
   "source": [
    "## 📊 Analyzing the Thinking Process\n",
    "\n",
    "Let's analyze the structure of Dhanishta 2.0's thinking."
   ]
  },
  {
   "cell_type": "code",
   "execution_count": null,
   "metadata": {},
   "outputs": [],
   "source": [
    "def analyze_thinking(prompt):\n",
    "    \"\"\"Analyze the structure of the thinking process\"\"\"\n",
    "    response = hai.chat.completions.create(\n",
    "        model=\"Dhanishtha-2.0-preview\",\n",
    "        messages=[{\"role\": \"user\", \"content\": prompt}],\n",
    "        hide_think=False,\n",
    "        max_tokens=2048\n",
    "    )\n",
    "    \n",
    "    content = response.choices[0].message.content\n",
    "    \n",
    "    # Count thinking blocks\n",
    "    think_count = content.count(\"<think>\")\n",
    "    ser_count = content.count(\"<ser>\")  # Structured Emotional Reasoning\n",
    "    \n",
    "    # Extract thinking content\n",
    "    thinking_blocks = []\n",
    "    remaining = content\n",
    "    while \"<think>\" in remaining:\n",
    "        start = remaining.find(\"<think>\") + 7\n",
    "        end = remaining.find(\"</think>\")\n",
    "        if end != -1:\n",
    "            thinking_blocks.append(remaining[start:end].strip())\n",
    "            remaining = remaining[end + 8:]\n",
    "        else:\n",
    "            break\n",
    "    \n",
    "    print(f\"📊 THINKING ANALYSIS\")\n",
    "    print(\"=\" * 40)\n",
    "    print(f\"Number of thinking blocks: {think_count}\")\n",
    "    print(f\"Number of emotional reasoning blocks: {ser_count}\")\n",
    "    print(f\"Total response length: {len(content)} characters\")\n",
    "    \n",
    "    if thinking_blocks:\n",
    "        thinking_length = sum(len(block) for block in thinking_blocks)\n",
    "        print(f\"Thinking content length: {thinking_length} characters\")\n",
    "        print(f\"Thinking ratio: {thinking_length/len(content)*100:.1f}%\")\n",
    "        \n",
    "        print(\"\\n🧠 THINKING BLOCKS:\")\n",
    "        for i, block in enumerate(thinking_blocks, 1):\n",
    "            print(f\"\\nBlock {i}: {block[:100]}...\" if len(block) > 100 else f\"\\nBlock {i}: {block}\")\n",
    "    \n",
    "    print(\"\\n💬 FULL RESPONSE:\")\n",
    "    print(\"-\" * 40)\n",
    "    print(content)\n",
    "\n",
    "# Analyze a complex reasoning task\n",
    "analyze_thinking(\n",
    "    \"Design a sustainable city of the future. Consider environmental, social, and economic factors.\"\n",
    ")"
   ]
  },
  {
   "cell_type": "markdown",
   "metadata": {},
   "source": [
    "## 🎯 Key Insights\n",
    "\n",
    "From this exploration, you've discovered:\n",
    "\n",
    "✅ **Transparent Reasoning**: See exactly how AI thinks through problems  \n",
    "✅ **Self-Correction**: AI can identify and fix its own mistakes  \n",
    "✅ **Multi-Phase Thinking**: Complex problems broken into manageable steps  \n",
    "✅ **Multilingual Reasoning**: Consistent thinking across languages  \n",
    "✅ **Structured Process**: Organized approach to problem-solving  \n",
    "\n",
    "## 🚀 What Makes This Revolutionary?\n",
    "\n",
    "Dhanishta 2.0 is the **world's first AI model** that:\n",
    "- Shows its thinking process in real-time\n",
    "- Can reconsider and refine its reasoning\n",
    "- Maintains transparency in complex problem-solving\n",
    "- Combines logical reasoning with emotional intelligence\n",
    "\n",
    "## 📚 Next Steps\n",
    "\n",
    "Ready to explore more advanced features?\n",
    "\n",
    "- **[02-complex-reasoning.ipynb](02-complex-reasoning.ipynb)** - Advanced problem-solving\n",
    "- **[03-self-correction.ipynb](03-self-correction.ipynb)** - Error detection and fixing\n",
    "- **[04-multilingual.ipynb](04-multilingual.ipynb)** - Reasoning across languages\n",
    "- **[../advanced/](../advanced/)** - Advanced applications\n",
    "\n",
    "---\n",
    "\n",
    "**Experience the future of AI reasoning with Dhanishta 2.0! 🧠✨**"
   ]
  }
 ],
 "metadata": {
  "kernelspec": {
   "display_name": "Python 3",
   "language": "python",
   "name": "python3"
  },
  "language_info": {
   "codemirror_mode": {
    "name": "ipython",
    "version": 3
   },
   "file_extension": ".py",
   "mimetype": "text/x-python",
   "name": "python",
   "nbconvert_exporter": "python",
   "pygments_lexer": "ipython3",
   "version": "3.11.9"
  }
 },
 "nbformat": 4,
 "nbformat_minor": 4
}

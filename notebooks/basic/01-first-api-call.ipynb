{
 "cells": [
  {
   "cell_type": "markdown",
   "metadata": {},
   "source": [
    "# Your First HelpingAI API Call 🚀\n",
    "\n",
    "Welcome to HelpingAI! This notebook will guide you through making your first API call and experiencing the power of our AI models, including the revolutionary **Dhanishta 2.0** with intermediate thinking capabilities.\n",
    "\n",
    "## What You'll Learn\n",
    "- How to set up the HelpingAI client\n",
    "- Make your first API call\n",
    "- Experience Dhanishta 2.0's thinking process\n",
    "- Compare different models\n",
    "- Handle basic errors"
   ]
  },
  {
   "cell_type": "markdown",
   "metadata": {},
   "source": [
    "## 🔧 Setup\n",
    "\n",
    "First, let's install the HelpingAI SDK and set up our environment."
   ]
  },
  {
   "cell_type": "code",
   "execution_count": 1,
   "metadata": {},
   "outputs": [
    {
     "name": "stdout",
     "output_type": "stream",
     "text": [
      "Requirement already satisfied: HelpingAI in c:\\users\\koula\\appdata\\local\\programs\\python\\python311\\lib\\site-packages (1.1.2)\n",
      "Requirement already satisfied: requests in c:\\users\\koula\\appdata\\local\\programs\\python\\python311\\lib\\site-packages (from HelpingAI) (2.32.4)\n",
      "Requirement already satisfied: typing_extensions in c:\\users\\koula\\appdata\\local\\programs\\python\\python311\\lib\\site-packages (from HelpingAI) (4.14.1)\n",
      "Requirement already satisfied: charset_normalizer<4,>=2 in c:\\users\\koula\\appdata\\local\\programs\\python\\python311\\lib\\site-packages (from requests->HelpingAI) (3.4.2)\n",
      "Requirement already satisfied: idna<4,>=2.5 in c:\\users\\koula\\appdata\\local\\programs\\python\\python311\\lib\\site-packages (from requests->HelpingAI) (3.10)\n",
      "Requirement already satisfied: urllib3<3,>=1.21.1 in c:\\users\\koula\\appdata\\local\\programs\\python\\python311\\lib\\site-packages (from requests->HelpingAI) (2.5.0)\n",
      "Requirement already satisfied: certifi>=2017.4.17 in c:\\users\\koula\\appdata\\local\\programs\\python\\python311\\lib\\site-packages (from requests->HelpingAI) (2025.7.9)\n",
      "Note: you may need to restart the kernel to use updated packages.\n"
     ]
    },
    {
     "name": "stderr",
     "output_type": "stream",
     "text": [
      "WARNING: Ignoring invalid distribution ~ebscout (c:\\Users\\koula\\AppData\\Local\\Programs\\Python\\Python311\\Lib\\site-packages)\n",
      "WARNING: Ignoring invalid distribution ~ebscout (c:\\Users\\koula\\AppData\\Local\\Programs\\Python\\Python311\\Lib\\site-packages)\n",
      "WARNING: Ignoring invalid distribution ~ebscout (c:\\Users\\koula\\AppData\\Local\\Programs\\Python\\Python311\\Lib\\site-packages)\n"
     ]
    }
   ],
   "source": [
    "# Install HelpingAI SDK\n",
    "%pip install -U HelpingAI"
   ]
  },
  {
   "cell_type": "code",
   "execution_count": null,
   "metadata": {},
   "outputs": [
    {
     "name": "stdout",
     "output_type": "stream",
     "text": [
      "✅ HelpingAI client initialized successfully!\n"
     ]
    }
   ],
   "source": [
    "# Import required libraries\n",
    "import os\n",
    "from HelpingAI import HAI\n",
    "\n",
    "# Set your API key (replace with your actual key)\n",
    "# You can get your API key from: https://helpingai.co/dashboard\n",
    "os.environ[\"HAI_API_KEY\"] = \"hl-******************************\"\n",
    "\n",
    "# Initialize the client\n",
    "hai = HAI()\n",
    "\n",
    "print(\"✅ HelpingAI client initialized successfully!\")"
   ]
  },
  {
   "cell_type": "markdown",
   "metadata": {},
   "source": [
    "## 🤖 Explore Available Models\n",
    "\n",
    "Let's see what models are available to us."
   ]
  },
  {
   "cell_type": "code",
   "execution_count": 3,
   "metadata": {},
   "outputs": [
    {
     "name": "stdout",
     "output_type": "stream",
     "text": [
      "🤖 Available HelpingAI Models:\n",
      "==================================================\n",
      "📋 Model ID: Dhanishtha-2.0-preview\n",
      "📝 Name: Dhanishtha-2.0-preview\n",
      "------------------------------\n"
     ]
    }
   ],
   "source": [
    "# List all available models\n",
    "models = hai.models.list()\n",
    "\n",
    "print(\"🤖 Available HelpingAI Models:\")\n",
    "print(\"=\" * 50)\n",
    "\n",
    "for model in models:\n",
    "    print(f\"📋 Model ID: {model.id}\")\n",
    "    print(f\"📝 Name: {model.name}\")\n",
    "    if hasattr(model, 'description') and model.description:\n",
    "        print(f\"📖 Description: {model.description}\")\n",
    "    print(\"-\" * 30)"
   ]
  },
  {
   "cell_type": "markdown",
   "metadata": {},
   "source": [
    "## 💬 Your First Chat Completion\n",
    "\n",
    "Let's start with a simple chat completion using Dhanishtha-2.0-preview."
   ]
  },
  {
   "cell_type": "code",
   "execution_count": 4,
   "metadata": {},
   "outputs": [
    {
     "name": "stdout",
     "output_type": "stream",
     "text": [
      "🤖 Dhanishtha-2.0-preview Response:\n",
      "========================================\n",
      "<think>\n",
      "This is a request about emotional intelligence, which is a complex topic that combines cognitive and emotional aspects. I should provide a comprehensive explanation that covers both the theoretical understanding and practical applications. Since this is an informational question rather than an emotionally charged one, I don't need a <ser> block, but I should still approach it with emotional awareness.\n",
      "</think>\n",
      "\n",
      "Emotional intelligence is our ability to recognize, understand, and manage emotions in ourselves and others. It's essentially about how we navigate our internal emotional landscape and our relationships with others.\n",
      "\n",
      "<think>\n",
      "I should break this down into its core components, as proposed by Salovey and Mayer, and also mention Daniel Goleman's framework since it's more accessible to the general public. I should also address why it matters in practical terms.\n",
      "</think>\n",
      "\n",
      "At its core, emotional intelligence consists of five key components, as outlined by psychologists Salovey and Mayer and popularized by Daniel Goleman:\n",
      "\n",
      "1. **Self-awareness**: Recognizing your own emotions as they happen. This means understanding how you feel and what triggers those feelings.\n",
      "\n",
      "2. **Self-regulation**: Managing disruptive emotions and adapting to changing circumstances. This isn't about suppressing feelings, but channeling them appropriately.\n",
      "\n",
      "3. **Motivation**: Being driven to achieve your goals for reasons beyond external rewards or avoiding punishment. It's about intrinsic motivation fueled by personal values.\n",
      "\n",
      "4. **Empathy**: Understanding and sharing the feelings of others. This involves both cognitive empathy (understanding someone's perspective) and emotional empathy (feeling what another person feels).\n",
      "\n",
      "5. **Social skills**: Building and maintaining relationships through effective communication, conflict resolution, and collaboration.\n",
      "\n",
      "<think>\n",
      "I should also mention why emotional intelligence matters in different contexts and how it can be developed, since that's often what people are most interested in when they ask about EI.\n",
      "</think>\n",
      "\n",
      "What makes emotional intelligence so valuable is its practical application. People with high emotional intelligence tend to:\n",
      "\n",
      "- Handle stress more effectively\n",
      "- Communicate more clearly\n",
      "- Build stronger relationships\n",
      "- Navigate social complexities\n",
      "- Resolve conflicts\n",
      "- Make more thoughtful decisions\n",
      "\n",
      "Interestingly, research suggests that emotional intelligence may be more important than IQ in determining life satisfaction and success. While IQ predicts about 20% of job performance, EQ can account for up to 75% in certain roles.\n",
      "\n",
      "You can develop your emotional intelligence through practices like:\n",
      "\n",
      "- Regular self-reflection\n",
      "- Active listening without judgment\n",
      "- Practicing mindfulness to stay present with emotions\n",
      "- Seeking feedback from others\n",
      "- Developing empathy through perspective-taking exercises\n",
      "\n",
      "Is there a particular aspect of emotional intelligence you'd like to explore further?\n"
     ]
    }
   ],
   "source": [
    "# Simple chat completion with Dhanishtha-2.0-preview\n",
    "response = hai.chat.completions.create(\n",
    "    model=\"Dhanishtha-2.0-preview\",\n",
    "    messages=[\n",
    "        {\"role\": \"user\", \"content\": \"Hello! Can you tell me about emotional intelligence?\"}\n",
    "    ]\n",
    ")\n",
    "\n",
    "print(\"🤖 Dhanishtha-2.0-preview Response:\")\n",
    "print(\"=\" * 40)\n",
    "print(response.choices[0].message.content)"
   ]
  },
  {
   "cell_type": "markdown",
   "metadata": {},
   "source": [
    "## 🧠 Experience Dhanishta 2.0's Thinking Process\n",
    "\n",
    "Now let's see something truly revolutionary - an AI that shows its thinking process!"
   ]
  },
  {
   "cell_type": "code",
   "execution_count": 5,
   "metadata": {},
   "outputs": [
    {
     "name": "stdout",
     "output_type": "stream",
     "text": [
      "🧠 Dhanishta 2.0 with Thinking Process:\n",
      "==================================================\n",
      "<think>\n",
      "First, I need to carefully look at the word \"strawberry\" and count each 'r' I see. Sometimes, when I read quickly, I might miss a letter or double-count. I'll try to spell it out slowly: s-t-r-a-w-b-e-r-r-y.\n",
      "</think>\n",
      "\n",
      "<think>\n",
      "Now, I'll count the 'r's one by one. The third letter is 'r', then after 'b', there's another 'r', and then another 'r' before the 'y'. So, there are three 'r's in total. I should double-check to make sure I didn't miss any or miscount.\n",
      "</think>\n",
      "\n",
      "There are three letter 'r's in the word \"strawberry\". It's easy to overlook a letter when reading quickly, so taking it step by step helps ensure accuracy. If you ever feel unsure about counting letters, it's completely normal—paying attention to detail is a skill that improves with practice.\n"
     ]
    }
   ],
   "source": [
    "# Experience intermediate thinking with Dhanishta 2.0\n",
    "response = hai.chat.completions.create(\n",
    "    model=\"Dhanishtha-2.0-preview\",\n",
    "    messages=[\n",
    "        {\"role\": \"user\", \"content\": \"How many letter 'r' are in the word 'strawberry'?\"}\n",
    "    ],\n",
    "    hide_think=False  # Show the thinking process!\n",
    ")\n",
    "\n",
    "print(\"🧠 Dhanishta 2.0 with Thinking Process:\")\n",
    "print(\"=\" * 50)\n",
    "print(response.choices[0].message.content)"
   ]
  },
  {
   "cell_type": "markdown",
   "metadata": {},
   "source": [
    "## 🔍 Compare: With and Without Thinking\n",
    "\n",
    "Let's see the difference when we hide the thinking process."
   ]
  },
  {
   "cell_type": "code",
   "execution_count": 6,
   "metadata": {},
   "outputs": [
    {
     "name": "stdout",
     "output_type": "stream",
     "text": [
      "🧠 Dhanishta 2.0 (Clean Output):\n",
      "========================================\n",
      "The word is: s-t-r-a-w-b-e-r-r-y.\n",
      "\n",
      "There are 3 letter 'r' in the word \"strawberry\". If you ever feel unsure about counting letters in words, it's completely normal—sometimes our eyes and brains can skip over repeating letters. Taking it slow and double-checking is a good habit.\n"
     ]
    }
   ],
   "source": [
    "# Same question but hide the thinking process\n",
    "response_clean = hai.chat.completions.create(\n",
    "    model=\"Dhanishtha-2.0-preview\",\n",
    "    messages=[\n",
    "        {\"role\": \"user\", \"content\": \"How many letter 'r' are in the word 'strawberry'?\"}\n",
    "    ],\n",
    "    hide_think=True  # Hide the thinking process\n",
    ")\n",
    "\n",
    "print(\"🧠 Dhanishta 2.0 (Clean Output):\")\n",
    "print(\"=\" * 40)\n",
    "print(response_clean.choices[0].message.content)"
   ]
  },
  {
   "cell_type": "markdown",
   "metadata": {},
   "source": [
    "## 🧮 Complex Reasoning Example\n",
    "\n",
    "Let's give Dhanishta 2.0 a more challenging problem to see its reasoning in action."
   ]
  },
  {
   "cell_type": "code",
   "execution_count": 7,
   "metadata": {},
   "outputs": [
    {
     "name": "stdout",
     "output_type": "stream",
     "text": [
      "🧮 Complex Reasoning with Dhanishta 2.0:\n",
      "==================================================\n",
      "<think>\n",
      "Let me start by understanding the relationship between machines, time, and widgets. If 5 machines take 5 minutes to make 5 widgets, that means each machine makes 1 widget in 5 minutes. The total work is 5 widgets in 5 minutes with 5 machines.\n",
      "</think>\n",
      "\n",
      "<think>\n",
      "Now, if we scale up to 100 machines, each machine would still take 5 minutes to make 1 widget. With 100 machines, all working at the same time, they would collectively make 100 widgets in 5 minutes. The time per widget per machine doesn’t change; only the number of machines and widgets increases proportionally.\n",
      "</think>\n",
      "\n",
      "This is a classic example of how scaling up resources (machines) allows you to scale up output (widgets) without increasing the time per unit, as long as the process is parallelizable. So, 100 machines would take 5 minutes to make 100 widgets.\n"
     ]
    }
   ],
   "source": [
    "# Complex reasoning problem\n",
    "response = hai.chat.completions.create(\n",
    "    model=\"Dhanishtha-2.0-preview\",\n",
    "    messages=[\n",
    "        {\n",
    "            \"role\": \"user\", \n",
    "            \"content\": \"If it takes 5 machines 5 minutes to make 5 widgets, how long would it take 100 machines to make 100 widgets?\"\n",
    "        }\n",
    "    ],\n",
    "    hide_think=False,\n",
    "    temperature=0.3  # Lower temperature for logical reasoning\n",
    ")\n",
    "\n",
    "print(\"🧮 Complex Reasoning with Dhanishta 2.0:\")\n",
    "print(\"=\" * 50)\n",
    "print(response.choices[0].message.content)"
   ]
  },
  {
   "cell_type": "markdown",
   "metadata": {},
   "source": [
    "## 💝 Emotional Intelligence with HelpingAI3\n",
    "\n",
    "Now let's see Dhanishtha-2.0-preview's emotional intelligence in action."
   ]
  },
  {
   "cell_type": "code",
   "execution_count": 8,
   "metadata": {},
   "outputs": [
    {
     "name": "stdout",
     "output_type": "stream",
     "text": [
      "💝 Dhanishtha-2.0-preview Emotional Response:\n",
      "=============================================\n",
      "<think>\n",
      "The user is feeling overwhelmed at work and is seeking support. My response should acknowledge their feelings and offer practical strategies, while also validating the emotional load they carry. I should prioritize emotional comfort before jumping to solutions.\n",
      "</think>\n",
      "\n",
      "<ser>\n",
      "Emotion ==> overwhelmed, stressed, possibly anxious or discouraged  \n",
      "Cause ==> too much workload, perhaps lack of time or support  \n",
      "Mind ==> may feel incapable or stuck, perhaps fearing judgment or failure  \n",
      "Growth ==> validation first, gentle reframing, manageable action steps, self-compassion  \n",
      "</ser>\n",
      "\n",
      "<think>\n",
      "It’s important not to rush to “fix” things. I should first help the user feel seen and heard. Then, offer simple, actionable ways to regain control, such as small steps, setting boundaries, or seeking help. The tone should be gentle and supportive.\n",
      "</think>\n",
      "\n",
      "It sounds like the weight of work is getting heavy on you — and honestly, that’s completely understandable. When too much piles up, it can feel like everything is slipping away.\n",
      "\n",
      "First, just a reminder: feeling overwhelmed doesn’t mean you’re weak or failing. It means you’re human, and your mind is letting you know something’s not sustainable right now. If you can, give yourself a bit of grace.\n",
      "\n",
      "One small step could be pausing your work for just a few minutes and simply breathing. Sometimes, just saying, “I need this moment,” is enough to take a tiny break — even if you’re still in the office. If possible, share with a trusted colleague or friend what you’re going through; sometimes support is hidden in plain sight.\n",
      "\n",
      "When things get tough, it can help to write out a list of just one or two small things you *can* do, rather than focusing on what you *can’t*. Setting gentle boundaries — maybe by saying no to extra tasks or limiting after-hours work — can also protect your energy.\n",
      "\n",
      "Most importantly, remember that you’re not alone in this, and it’s okay to ask for help. If you’d like, we can brainstorm some specific ways to break down your workload or talk about what’s causing the most stress. Just let me know what you’d feel comfortable sharing.\n"
     ]
    }
   ],
   "source": [
    "# Emotional intelligence example\n",
    "response = hai.chat.completions.create(\n",
    "    model=\"Dhanishtha-2.0-preview\",\n",
    "    messages=[\n",
    "        {\n",
    "            \"role\": \"user\", \n",
    "            \"content\": \"I'm feeling overwhelmed with work and don't know how to cope. Can you help?\"\n",
    "        }\n",
    "    ],\n",
    "    temperature=0.8  # Higher temperature for more empathetic responses\n",
    ")\n",
    "\n",
    "print(\"💝 Dhanishtha-2.0-preview Emotional Response:\")\n",
    "print(\"=\" * 45)\n",
    "print(response.choices[0].message.content)"
   ]
  },
  {
   "cell_type": "markdown",
   "metadata": {},
   "source": [
    "## 📊 Response Information\n",
    "\n",
    "Let's examine the response object to understand what information we get back."
   ]
  },
  {
   "cell_type": "code",
   "execution_count": 9,
   "metadata": {},
   "outputs": [
    {
     "name": "stdout",
     "output_type": "stream",
     "text": [
      "📊 Response Object Information:\n",
      "========================================\n",
      "Model used: HelpingAI/Dhanishtha-2.0-preview-0725\n",
      "Number of choices: 1\n",
      "Message role: assistant\n",
      "Finish reason: stop\n",
      "\n",
      "📈 Token Usage:\n",
      "Prompt tokens: 13\n",
      "Completion tokens: 386\n",
      "Total tokens: 399\n",
      "\n",
      "💬 Response:\n",
      "<think>\n",
      "This is a question about artificial intelligence, which is a complex topic with both technical and philosophical dimensions. I should provide a clear, thoughtful explanation that covers what A...\n"
     ]
    }
   ],
   "source": [
    "# Get detailed response information\n",
    "response = hai.chat.completions.create(\n",
    "    model=\"Dhanishtha-2.0-preview\",\n",
    "    messages=[\n",
    "        {\"role\": \"user\", \"content\": \"What is artificial intelligence?\"}\n",
    "    ]\n",
    ")\n",
    "\n",
    "print(\"📊 Response Object Information:\")\n",
    "print(\"=\" * 40)\n",
    "print(f\"Model used: {response.model if hasattr(response, 'model') else 'N/A'}\")\n",
    "print(f\"Number of choices: {len(response.choices)}\")\n",
    "print(f\"Message role: {response.choices[0].message.role}\")\n",
    "print(f\"Finish reason: {response.choices[0].finish_reason}\")\n",
    "\n",
    "if hasattr(response, 'usage') and response.usage:\n",
    "    print(f\"\\n📈 Token Usage:\")\n",
    "    print(f\"Prompt tokens: {response.usage.prompt_tokens}\")\n",
    "    print(f\"Completion tokens: {response.usage.completion_tokens}\")\n",
    "    print(f\"Total tokens: {response.usage.total_tokens}\")\n",
    "\n",
    "print(f\"\\n💬 Response:\")\n",
    "print(response.choices[0].message.content[:200] + \"...\" if len(response.choices[0].message.content) > 200 else response.choices[0].message.content)"
   ]
  },
  {
   "cell_type": "markdown",
   "metadata": {},
   "source": [
    "## 🛠️ Error Handling\n",
    "\n",
    "Let's learn how to handle errors gracefully."
   ]
  },
  {
   "cell_type": "code",
   "execution_count": 10,
   "metadata": {},
   "outputs": [
    {
     "name": "stdout",
     "output_type": "stream",
     "text": [
      "🛡️ Safe API Call Result:\n",
      "<think>\n",
      "The user’s message is a classic “Hello, world!” — a universal greeting and the first step for many in programming, but also a way to open a conversation. I should respond warmly, acknowledging the simplicity but also the significance of such a greeting. \n",
      "</think>\n",
      "\n",
      "<think>\n",
      "I want to make the user feel seen and welcomed, not just reply with a generic greeting. Maybe I can add a touch of curiosity or invite them to share more about themselves or their interests. This will make the interaction feel more personal and meaningful.\n",
      "</think>\n",
      "\n",
      "Hello! It’s great to hear from you. That classic “Hello, world!” is often the starting point for many new journeys — whether in coding or just getting to know someone new. I hope we can have a thoughtful and enjoyable conversation together. Is there something specific on your mind today, or would you just like to chat?\n"
     ]
    }
   ],
   "source": [
    "from HelpingAI import HAIError, AuthenticationError, RateLimitError\n",
    "\n",
    "def safe_api_call(model, message):\n",
    "    \"\"\"Make an API call with proper error handling\"\"\"\n",
    "    try:\n",
    "        response = hai.chat.completions.create(\n",
    "            model=model,\n",
    "            messages=[{\"role\": \"user\", \"content\": message}]\n",
    "        )\n",
    "        return response.choices[0].message.content\n",
    "    \n",
    "    except AuthenticationError:\n",
    "        return \"❌ Authentication failed. Please check your API key.\"\n",
    "    \n",
    "    except RateLimitError:\n",
    "        return \"⏰ Rate limit exceeded. Please wait before making more requests.\"\n",
    "    \n",
    "    except HAIError as e:\n",
    "        return f\"🚨 API Error: {str(e)}\"\n",
    "    \n",
    "    except Exception as e:\n",
    "        return f\"💥 Unexpected error: {str(e)}\"\n",
    "\n",
    "# Test the error handling\n",
    "result = safe_api_call(\"Dhanishtha-2.0-preview\", \"Hello, world!\")\n",
    "print(\"🛡️ Safe API Call Result:\")\n",
    "print(result)"
   ]
  },
  {
   "cell_type": "markdown",
   "metadata": {},
   "source": [
    "## 🎯 Key Takeaways\n",
    "\n",
    "Congratulations! You've successfully:\n",
    "\n",
    "✅ **Set up the HelpingAI client**  \n",
    "✅ **Made your first API calls**  \n",
    "✅ **Experienced Dhanishta 2.0's thinking process**  \n",
    "✅ **Compared different models**  \n",
    "✅ **Learned basic error handling**  \n",
    "\n",
    "### What Makes HelpingAI Special?\n",
    "\n",
    "🧠 **Dhanishta 2.0**: World's first AI with intermediate thinking  \n",
    "🌍 **Multilingual**: Support for 39+ languages  \n",
    "🔄 **Self-Correction**: AI that can fix its own mistakes  \n",
    "\n",
    "## 📚 Next Steps\n",
    "\n",
    "Ready to explore more? Check out these notebooks:\n",
    "\n",
    "- **[02-chat-completions.ipynb](02-chat-completions.ipynb)** - Advanced chat patterns\n",
    "- **[03-streaming.ipynb](03-streaming.ipynb)** - Real-time streaming responses\n",
    "- **[04-parameters.ipynb](04-parameters.ipynb)** - Fine-tuning AI behavior\n",
    "- **[../dhanishta-2.0/](../dhanishta-2.0/)** - Deep dive into intermediate thinking\n",
    "\n",
    "---\n",
    "\n",
    "**Happy coding with HelpingAI! 🚀✨**"
   ]
  }
 ],
 "metadata": {
  "kernelspec": {
   "display_name": "Python 3",
   "language": "python",
   "name": "python3"
  },
  "language_info": {
   "codemirror_mode": {
    "name": "ipython",
    "version": 3
   },
   "file_extension": ".py",
   "mimetype": "text/x-python",
   "name": "python",
   "nbconvert_exporter": "python",
   "pygments_lexer": "ipython3",
   "version": "3.11.9"
  }
 },
 "nbformat": 4,
 "nbformat_minor": 4
}
